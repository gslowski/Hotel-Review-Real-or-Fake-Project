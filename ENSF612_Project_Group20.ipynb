{
 "cells": [
  {
   "cell_type": "markdown",
   "metadata": {},
   "source": [
    "# ENSF 612 - ML to Identify Fake Calgary Hotel - Group 20\n",
    "Drew Burritt  \n",
    "Gregory Slowski  \n",
    "Oluwajolasun Jaiyesimi  \n",
    "Contributions: Names are listed in heading above each section  \n",
    "### Note: Due to the nature of random split, some of the results in the notebook may be slightly different than shown in the report"
   ]
  },
  {
   "cell_type": "markdown",
   "metadata": {},
   "source": [
    "# Preprocessing - Drew/Greg"
   ]
  },
  {
   "cell_type": "code",
   "execution_count": 2,
   "metadata": {},
   "outputs": [],
   "source": [
    "from pyspark import SparkContext, SparkConf\n",
    "from pyspark.sql import SparkSession\n",
    "conf = pyspark.SparkConf().setAppName('appName').setMaster('local[*]')\n",
    "conf.set(\"spark.driver.memory\", \"12g\") \n",
    "conf.set(\"spark.executor.memory\", \"6g\") \n",
    "conf.set(\"spark.cores.max\", \"8\")\n",
    "sc = pyspark.SparkContext(conf=conf)\n",
    "spark = SparkSession(sc)"
   ]
  },
  {
   "cell_type": "code",
   "execution_count": 3,
   "metadata": {},
   "outputs": [
    {
     "name": "stdout",
     "output_type": "stream",
     "text": [
      "12g\n"
     ]
    }
   ],
   "source": [
    "sc.stop()\n",
    "a = sc._conf.get('spark.driver.memory')\n",
    "print(a)"
   ]
  },
  {
   "cell_type": "code",
   "execution_count": 3,
   "metadata": {
    "application/vnd.databricks.v1+cell": {
     "inputWidgets": {},
     "nuid": "bac02ede-98c1-48c0-83db-6f908fc2d8e7",
     "showTitle": false,
     "title": ""
    }
   },
   "outputs": [
    {
     "name": "stdout",
     "output_type": "stream",
     "text": [
      "Requirement already satisfied: nltk in c:\\users\\drewburritt\\anaconda3\\envs\\py-spark\\lib\\site-packages (3.6.5)\n",
      "Requirement already satisfied: click in c:\\users\\drewburritt\\anaconda3\\envs\\py-spark\\lib\\site-packages (from nltk) (8.0.3)\n",
      "Requirement already satisfied: regex>=2021.8.3 in c:\\users\\drewburritt\\anaconda3\\envs\\py-spark\\lib\\site-packages (from nltk) (2021.11.10)\n",
      "Requirement already satisfied: joblib in c:\\users\\drewburritt\\anaconda3\\envs\\py-spark\\lib\\site-packages (from nltk) (1.1.0)\n",
      "Requirement already satisfied: tqdm in c:\\users\\drewburritt\\anaconda3\\envs\\py-spark\\lib\\site-packages (from nltk) (4.62.3)\n",
      "Requirement already satisfied: colorama in c:\\users\\drewburritt\\anaconda3\\envs\\py-spark\\lib\\site-packages (from click->nltk) (0.4.4)\n",
      "Requirement already satisfied: importlib-metadata in c:\\users\\drewburritt\\anaconda3\\envs\\py-spark\\lib\\site-packages (from click->nltk) (4.8.2)\n",
      "Requirement already satisfied: typing-extensions>=3.6.4 in c:\\users\\drewburritt\\anaconda3\\envs\\py-spark\\lib\\site-packages (from importlib-metadata->click->nltk) (4.0.1)\n",
      "Requirement already satisfied: zipp>=0.5 in c:\\users\\drewburritt\\anaconda3\\envs\\py-spark\\lib\\site-packages (from importlib-metadata->click->nltk) (3.6.0)\n"
     ]
    },
    {
     "name": "stderr",
     "output_type": "stream",
     "text": [
      "[nltk_data] Downloading package punkt to\n",
      "[nltk_data]     C:\\Users\\DrewBurritt\\AppData\\Roaming\\nltk_data...\n",
      "[nltk_data]   Package punkt is already up-to-date!\n"
     ]
    }
   ],
   "source": [
    "#!pip install --upgrade pip\n",
    "!pip install nltk\n",
    "import nltk\n",
    "nltk.download('punkt')\n",
    "import pyspark.sql.functions as F\n",
    "from pyspark.sql.types import *\n",
    "from pyspark.sql.functions import udf"
   ]
  },
  {
   "cell_type": "code",
   "execution_count": 4,
   "metadata": {
    "application/vnd.databricks.v1+cell": {
     "inputWidgets": {},
     "nuid": "c60ffe25-7325-4aec-b77a-644dd5e13ea0",
     "showTitle": false,
     "title": ""
    }
   },
   "outputs": [],
   "source": [
    "#Drew\n",
    "#Create UDF to tokenize words\n",
    "def tokenize1(text):\n",
    "    words = nltk.word_tokenize(text)\n",
    "    return words  \n",
    "tokenize_word = udf(lambda x: tokenize1(x)  , ArrayType(StringType()))"
   ]
  },
  {
   "cell_type": "code",
   "execution_count": 5,
   "metadata": {
    "application/vnd.databricks.v1+cell": {
     "inputWidgets": {},
     "nuid": "a80a0127-811b-419f-acb7-00cf6bc75483",
     "showTitle": false,
     "title": ""
    }
   },
   "outputs": [
    {
     "name": "stderr",
     "output_type": "stream",
     "text": [
      "[nltk_data] Downloading package stopwords to\n",
      "[nltk_data]     C:\\Users\\DrewBurritt\\AppData\\Roaming\\nltk_data...\n",
      "[nltk_data]   Package stopwords is already up-to-date!\n",
      "[nltk_data] Downloading package punkt to\n",
      "[nltk_data]     C:\\Users\\DrewBurritt\\AppData\\Roaming\\nltk_data...\n",
      "[nltk_data]   Package punkt is already up-to-date!\n"
     ]
    }
   ],
   "source": [
    "#Drew\n",
    "#Create UDF to remove stopwords\n",
    "from nltk.corpus import stopwords\n",
    "nltk.download('stopwords')\n",
    "nltk.download('punkt')\n",
    "stop_en = stopwords.words('english')\n",
    "def remove_stopwords1(word_list):\n",
    "    filtered_words = [word for word in word_list if word not in stop_en]\n",
    "    return filtered_words\n",
    "remove_stopwords = udf(lambda x: remove_stopwords1(x) , ArrayType(StringType()))"
   ]
  },
  {
   "cell_type": "code",
   "execution_count": 6,
   "metadata": {
    "application/vnd.databricks.v1+cell": {
     "inputWidgets": {},
     "nuid": "d4d2c5cb-ef88-4a30-8b6c-ed79820fcbcc",
     "showTitle": false,
     "title": ""
    }
   },
   "outputs": [],
   "source": [
    "#Drew\n",
    "#Create UDF to remove noise\n",
    "def remove_noise1(word_list):\n",
    "    filtered_words = [word for word in word_list if word.isalnum() and len(word)>2]\n",
    "    return filtered_words\n",
    "remove_noise = udf(lambda x: remove_noise1(x) , ArrayType(StringType()))"
   ]
  },
  {
   "cell_type": "code",
   "execution_count": 7,
   "metadata": {
    "application/vnd.databricks.v1+cell": {
     "inputWidgets": {},
     "nuid": "1b89a87f-4a18-4d30-87e0-657048e0f46d",
     "showTitle": false,
     "title": ""
    }
   },
   "outputs": [],
   "source": [
    "#Drew\n",
    "#Create UDF to stem words\n",
    "from nltk.stem import SnowballStemmer\n",
    "def stem1(word_list):\n",
    "    snowball = SnowballStemmer(language='english')\n",
    "    stemmed_words = [snowball.stem(word) for word in word_list]\n",
    "    return stemmed_words\n",
    "stem = udf(lambda x: stem1(x) , ArrayType(StringType()))"
   ]
  },
  {
   "cell_type": "code",
   "execution_count": 8,
   "metadata": {
    "application/vnd.databricks.v1+cell": {
     "inputWidgets": {},
     "nuid": "73d2abe7-c328-4136-8d8c-4c6767e40597",
     "showTitle": false,
     "title": ""
    }
   },
   "outputs": [
    {
     "name": "stderr",
     "output_type": "stream",
     "text": [
      "[nltk_data] Downloading package vader_lexicon to\n",
      "[nltk_data]     C:\\Users\\DrewBurritt\\AppData\\Roaming\\nltk_data...\n",
      "[nltk_data]   Package vader_lexicon is already up-to-date!\n"
     ]
    }
   ],
   "source": [
    "#Drew\n",
    "#Create UDF to get sentiment score of review\n",
    "from nltk.sentiment import SentimentIntensityAnalyzer\n",
    "nltk.download('vader_lexicon')\n",
    "def sentiment1(text):\n",
    "  sia = SentimentIntensityAnalyzer()\n",
    "  return sia.polarity_scores(text)['compound']\n",
    "sentiment = udf(lambda x: sentiment1(x) , FloatType())"
   ]
  },
  {
   "cell_type": "code",
   "execution_count": 9,
   "metadata": {
    "application/vnd.databricks.v1+cell": {
     "inputWidgets": {},
     "nuid": "72b9e90e-5527-4371-84d4-19d6f5eaa983",
     "showTitle": false,
     "title": ""
    }
   },
   "outputs": [],
   "source": [
    "#greg\n",
    "#create udf for adding length of reviews by word count for all alphanumeric \"words\"\n",
    "\n",
    "def get_length1(word_list):\n",
    "  alphanum_words = [word for word in word_list if word.isalnum()]\n",
    "  N = len(alphanum_words)\n",
    "  return N\n",
    "\n",
    "get_length = udf(lambda x: get_length1(x), IntegerType())"
   ]
  },
  {
   "cell_type": "code",
   "execution_count": 10,
   "metadata": {
    "application/vnd.databricks.v1+cell": {
     "inputWidgets": {},
     "nuid": "7d9f6e13-2683-4ca6-99a0-aa70d06b3795",
     "showTitle": false,
     "title": ""
    }
   },
   "outputs": [],
   "source": [
    "#greg\n",
    "#create udf for adding average word length by review\n",
    "\n",
    "def get_average_word_length1(word_list):\n",
    "  alphanum_word_lengths = [len(word) for word in word_list if word.isalnum()]\n",
    "  avg_word_len = sum(alphanum_word_lengths)/len(alphanum_word_lengths)\n",
    "  return avg_word_len\n",
    "\n",
    "get_average_word_length = udf(lambda x: get_average_word_length1(x), FloatType())"
   ]
  },
  {
   "cell_type": "code",
   "execution_count": 11,
   "metadata": {
    "application/vnd.databricks.v1+cell": {
     "inputWidgets": {},
     "nuid": "44432129-8b18-4276-8e43-3fc39b162562",
     "showTitle": false,
     "title": ""
    }
   },
   "outputs": [],
   "source": [
    "#greg\n",
    "#create udf for ratio of capitalized characters to total characters (n), with no white spaces\n",
    "\n",
    "def capital_ratio1(word_list):\n",
    "  s = \"\".join(word_list)\n",
    "  n = len(s)\n",
    "  cap_n = len([char for char in s if char.isupper()])\n",
    "  ratio_cap_to_total = cap_n / n\n",
    "  return ratio_cap_to_total\n",
    "\n",
    "capital_ratio = udf(lambda x: capital_ratio1(x), FloatType())"
   ]
  },
  {
   "cell_type": "code",
   "execution_count": 12,
   "metadata": {
    "application/vnd.databricks.v1+cell": {
     "inputWidgets": {},
     "nuid": "9683f778-921c-4514-8ada-c2d2d6ed09fb",
     "showTitle": false,
     "title": ""
    }
   },
   "outputs": [],
   "source": [
    "#greg\n",
    "#create udf for ratio of long words (>5 letters) to total words (N)\n",
    "\n",
    "def long_word_ratio1(word_list):\n",
    "  alphanum_words = [word for word in word_list if word.isalnum()]\n",
    "  N = len(alphanum_words)\n",
    "  long_words = [word for word in alphanum_words if len(word) > 5]\n",
    "  long_words_count = len(long_words)\n",
    "  ratio_long_to_total = long_words_count / N\n",
    "  return ratio_long_to_total\n",
    "\n",
    "long_word_ratio = udf(lambda x: long_word_ratio1(x), FloatType())"
   ]
  },
  {
   "cell_type": "code",
   "execution_count": 13,
   "metadata": {
    "application/vnd.databricks.v1+cell": {
     "inputWidgets": {},
     "nuid": "2d6b653c-8d26-4c25-850a-3b24555527f2",
     "showTitle": false,
     "title": ""
    }
   },
   "outputs": [],
   "source": [
    "#greg\n",
    "#create udf for ratio of words after stop word removal vs total words\n",
    "\n",
    "stop_en = stopwords.words('english')\n",
    "\n",
    "def filtered_word_ratio1(word_list):\n",
    "  alphanum_words = [word for word in word_list if word.isalnum()]\n",
    "  N = len(alphanum_words)\n",
    "  non_filtered_words = [word for word in alphanum_words if word not in stop_en]\n",
    "  num_non_filtered_words = len(non_filtered_words)\n",
    "  ratio_non_filtered_to_total = num_non_filtered_words / N\n",
    "  return ratio_non_filtered_to_total\n",
    "\n",
    "filtered_word_ratio = udf(lambda x: filtered_word_ratio1(x), FloatType())"
   ]
  },
  {
   "cell_type": "code",
   "execution_count": 14,
   "metadata": {
    "application/vnd.databricks.v1+cell": {
     "inputWidgets": {},
     "nuid": "ae3bb459-5902-4241-8606-33107c57304c",
     "showTitle": false,
     "title": ""
    }
   },
   "outputs": [],
   "source": [
    "#greg\n",
    "#create udf for ratio of punctuation \"words\" vs total alphanumeric words\n",
    "\n",
    "def punctuation_word_ratio1(word_list):\n",
    "  alphanum_words = [word for word in word_list if word.isalnum()]\n",
    "  N = len(alphanum_words)\n",
    "  punctuation_words = [word for word in word_list if not(word.isalnum())]\n",
    "  num_punctuation_words = len(punctuation_words)\n",
    "  ratio_punctuation_to_total = num_punctuation_words / N\n",
    "  return ratio_punctuation_to_total\n",
    "\n",
    "punctuation_word_ratio = udf(lambda x: punctuation_word_ratio1(x), FloatType())"
   ]
  },
  {
   "cell_type": "code",
   "execution_count": 15,
   "metadata": {
    "application/vnd.databricks.v1+cell": {
     "inputWidgets": {},
     "nuid": "7ff6da39-9b25-4af2-86a7-9676e04a6cac",
     "showTitle": false,
     "title": ""
    }
   },
   "outputs": [],
   "source": [
    "#Drew/Greg\n",
    "from pyspark.sql.functions import lower\n",
    "def process_data(df):\n",
    "  dfText = df.select(\"Index\",\"Review\" ,\"polarity\",\"real_fake\", tokenize_word(\"Review\").alias(\"tokenized_words\"))\n",
    "  dfText = dfText.withColumn(\"sentiment\" ,sentiment(\"Review\"))\n",
    "  dfText = dfText.withColumn(\"no_stopwords\", remove_stopwords(\"tokenized_words\"))\n",
    "  dfText = dfText.withColumn(\"no_noise\", remove_noise(\"no_stopwords\"))\n",
    "  dfText = dfText.withColumn(\"stemmed\", stem(\"no_noise\"))\n",
    "  #dfText = dfText.select('*', F.concat_ws(\"_\",\"real_fake\",\"polarity\").alias(\"target\"))\n",
    "  dfText = dfText.withColumn(\"length_in_words\", get_length(\"tokenized_words\"))\n",
    "  dfText = dfText.withColumn(\"average_word_length\", get_average_word_length(\"tokenized_words\"))\n",
    "  dfText = dfText.withColumn(\"capital_char_ratio\", capital_ratio(\"tokenized_words\"))\n",
    "  dfText = dfText.withColumn(\"long_word_ratio\", long_word_ratio(\"tokenized_words\"))\n",
    "  dfText = dfText.withColumn(\"non_stop_word_ratio\", filtered_word_ratio(\"tokenized_words\"))\n",
    "  dfText = dfText.withColumn(\"punctuation_ratio\", punctuation_word_ratio(\"tokenized_words\"))\n",
    "\n",
    "  return dfText"
   ]
  },
  {
   "cell_type": "code",
   "execution_count": 38,
   "metadata": {
    "application/vnd.databricks.v1+cell": {
     "inputWidgets": {},
     "nuid": "dd8b7afc-ad00-4662-a0a6-cd09430788b2",
     "showTitle": false,
     "title": ""
    }
   },
   "outputs": [
    {
     "data": {
      "text/plain": [
       "DataFrame[Index: string, Review: string, stemmed: array<string>, sentiment: float, polarity: string, length_in_words: int, average_word_length: float, capital_char_ratio: float, long_word_ratio: float, non_stop_word_ratio: float, punctuation_ratio: float, real_fake: string]"
      ]
     },
     "execution_count": 40,
     "metadata": {},
     "output_type": "execute_result"
    }
   ],
   "source": [
    "#Drew/Greg\n",
    "df_raw_old = spark.read.option(\"escape\",\"\\\"\").option(\"header\",True).csv(\"Original_data.csv\")\n",
    "df_old_all = process_data(df_raw_old)\n",
    "#df_test = df_test_all.select(\"Review\",\"stemmed\",\"sentiment\",\"target\",\"real_fake\")\n",
    "df_old = df_old_all.select(\"Index\",\"Review\",\"stemmed\",\"sentiment\",\"polarity\", \"length_in_words\", \"average_word_length\", \\\n",
    "                             \"capital_char_ratio\", \"long_word_ratio\", \"non_stop_word_ratio\", \"punctuation_ratio\", \"real_fake\")\n",
    "\n",
    "old_train_split, old_test_split = df_old.randomSplit([0.80, 0.20], 1)\n",
    "old_train_split.cache()\n",
    "old_test_split.cache()\n",
    "\n",
    "df_raw_new = spark.read.option(\"escape\",\"\\\"\").option(\"header\",True).csv(\"Hotel_Reviews_Calgary.csv\")\n",
    "df_new_all = process_data(df_raw_new)\n",
    "#df_train = df_train.select(\"Review\",\"stemmed\",\"sentiment\",\"target\",\"real_fake\")\n",
    "df_new = df_new_all.select(\"Index\",\"Review\",\"stemmed\",\"sentiment\",\"polarity\", \"length_in_words\", \"average_word_length\", \\\n",
    "                             \"capital_char_ratio\", \"long_word_ratio\", \"non_stop_word_ratio\", \"punctuation_ratio\", \"real_fake\")\n",
    "\n",
    "new_train_split, new_test_split = df_new.randomSplit([0.81, 0.20], 1)\n",
    "new_train_split.cache()\n",
    "new_test_split.cache()\n",
    "\n",
    "#df_train.display()\n",
    "combined_train = old_train_split.union(new_train_split)\n",
    "combined_test = old_test_split.union(new_test_split)\n",
    "\n",
    "combined_train.cache()\n",
    "combined_test.cache()"
   ]
  },
  {
   "cell_type": "code",
   "execution_count": 87,
   "metadata": {
    "application/vnd.databricks.v1+cell": {
     "inputWidgets": {},
     "nuid": "67eb8ccb-a883-43b8-b95e-edf191681dfd",
     "showTitle": false,
     "title": ""
    }
   },
   "outputs": [
    {
     "name": "stdout",
     "output_type": "stream",
     "text": [
      "(794, 12)\n",
      "(547, 12)\n"
     ]
    }
   ],
   "source": [
    "print((new_train_split.count(), len(combined_test.columns)))\n",
    "print((combined_test.count(), len(combined_test.columns)))"
   ]
  },
  {
   "cell_type": "code",
   "execution_count": 39,
   "metadata": {
    "application/vnd.databricks.v1+cell": {
     "inputWidgets": {},
     "nuid": "efb7e3d5-68bf-4758-adc1-0ffeabb32b4a",
     "showTitle": false,
     "title": ""
    },
    "tags": []
   },
   "outputs": [
    {
     "name": "stdout",
     "output_type": "stream",
     "text": [
      "+-----+--------------------+--------------------+---------+--------+---------------+-------------------+------------------+---------------+-------------------+-----------------+---------+\n",
      "|Index|              Review|             stemmed|sentiment|polarity|length_in_words|average_word_length|capital_char_ratio|long_word_ratio|non_stop_word_ratio|punctuation_ratio|real_fake|\n",
      "+-----+--------------------+--------------------+---------+--------+---------------+-------------------+------------------+---------------+-------------------+-----------------+---------+\n",
      "|    1|We stayed 2 night...|[stay, night, spr...|  -0.9593|negative|             66|          4.1060605|        0.04693141|     0.25757575|         0.59090906|       0.09090909|     real|\n",
      "+-----+--------------------+--------------------+---------+--------+---------------+-------------------+------------------+---------------+-------------------+-----------------+---------+\n",
      "only showing top 1 row\n",
      "\n"
     ]
    }
   ],
   "source": [
    "combined_train.show(1)"
   ]
  },
  {
   "cell_type": "markdown",
   "metadata": {
    "application/vnd.databricks.v1+cell": {
     "inputWidgets": {},
     "nuid": "95a45e0d-c442-4f8a-86d7-c9dccddf4f43",
     "showTitle": false,
     "title": ""
    },
    "tags": []
   },
   "source": [
    "# Logistic Regression - Drew"
   ]
  },
  {
   "cell_type": "code",
   "execution_count": 18,
   "metadata": {
    "application/vnd.databricks.v1+cell": {
     "inputWidgets": {},
     "nuid": "efeecdd5-5183-44ef-afc5-4570810904c1",
     "showTitle": false,
     "title": ""
    }
   },
   "outputs": [],
   "source": [
    "#Drew\n",
    "\n",
    "from pyspark.ml.feature import HashingTF, IDF, IndexToString, StringIndexer\n",
    "from pyspark.ml import Pipeline\n",
    "from pyspark.ml.feature import StandardScaler\n",
    "from pyspark.ml.classification import LogisticRegression\n",
    "from pyspark.ml.classification import RandomForestClassifier\n",
    "from pyspark.ml.classification import LinearSVC\n",
    "from pyspark.ml.classification import NaiveBayes\n",
    "from pyspark.ml.classification import GBTClassifier\n",
    "from pyspark.ml.feature import VectorAssembler\n",
    "from pyspark.ml.evaluation import MulticlassClassificationEvaluator\n",
    "\n",
    "columns_to_be_scaled = ['length_in_words', 'average_word_length', 'capital_char_ratio', 'long_word_ratio', 'non_stop_word_ratio', 'punctuation_ratio']\n",
    "assemblers = [VectorAssembler(inputCols=[col], outputCol=col + \"_vec\") for col in columns_to_be_scaled]\n",
    "scalers  = [StandardScaler(inputCol=col + \"_vec\", outputCol=col + \"_scaled\") for col in columns_to_be_scaled]\n",
    "scaling_pipeline = Pipeline(stages=assemblers + scalers)\n",
    "\n",
    "hashingTF = HashingTF(inputCol=\"stemmed\", outputCol=\"rawFeatures\")\n",
    "idf = IDF(inputCol=\"rawFeatures\", outputCol=\"TF_IDF\", minDocFreq=2)\n",
    "label_strIdx1 = StringIndexer(inputCol=\"polarity\", outputCol=\"polarity_idx\")\n",
    "assembles = VectorAssembler(inputCols = ['TF_IDF','sentiment','polarity_idx', 'length_in_words_scaled', 'average_word_length_scaled', 'capital_char_ratio_scaled', 'long_word_ratio_scaled', 'non_stop_word_ratio_scaled', 'punctuation_ratio_scaled'],outputCol=\"features\")\n",
    "label_strIdx2 = StringIndexer(inputCol=\"real_fake\", outputCol=\"label\")\n",
    "lr = LogisticRegression(regParam = 0.3)\n",
    "label_idxStr = IndexToString(inputCol = \"label\", outputCol = \"article_class\")\n",
    "\n",
    "pipeline = Pipeline(stages=[scaling_pipeline, hashingTF, idf,label_strIdx1, assembles, label_strIdx2, lr ,label_idxStr])"
   ]
  },
  {
   "cell_type": "code",
   "execution_count": 19,
   "metadata": {
    "application/vnd.databricks.v1+cell": {
     "inputWidgets": {},
     "nuid": "19fdf3c3-933b-4078-83be-a6d3328ce964",
     "showTitle": false,
     "title": ""
    }
   },
   "outputs": [],
   "source": [
    "#Drew\n",
    "from pyspark.ml.tuning import CrossValidator, ParamGridBuilder\n",
    "\n",
    "paramGrid = ParamGridBuilder() \\\n",
    "    .addGrid(hashingTF.numFeatures, [10000,20000,50000]) \\\n",
    "    .addGrid(lr.regParam, [0.1, 0.3 ,0.5]) \\\n",
    "    .build()\n",
    "crossval_lr = CrossValidator(estimator=pipeline, estimatorParamMaps=paramGrid,evaluator= MulticlassClassificationEvaluator(),numFolds=5,parallelism = 100 )  # use 3+ folds in practice\n"
   ]
  },
  {
   "cell_type": "code",
   "execution_count": 68,
   "metadata": {
    "application/vnd.databricks.v1+cell": {
     "inputWidgets": {},
     "nuid": "32020647-3229-4074-9526-7a3271fe40ab",
     "showTitle": false,
     "title": ""
    }
   },
   "outputs": [],
   "source": [
    "cvModel_lr = crossval_lr.fit(combined_train)"
   ]
  },
  {
   "cell_type": "code",
   "execution_count": 69,
   "metadata": {
    "application/vnd.databricks.v1+cell": {
     "inputWidgets": {},
     "nuid": "82d76da1-da65-4664-9231-288bbbed7a2a",
     "showTitle": false,
     "title": ""
    }
   },
   "outputs": [
    {
     "data": {
      "text/plain": [
       "DataFrame[Index: string, Review: string, stemmed: array<string>, sentiment: float, polarity: string, length_in_words: int, average_word_length: float, capital_char_ratio: float, long_word_ratio: float, non_stop_word_ratio: float, punctuation_ratio: float, real_fake: string, length_in_words_vec: vector, average_word_length_vec: vector, capital_char_ratio_vec: vector, long_word_ratio_vec: vector, non_stop_word_ratio_vec: vector, punctuation_ratio_vec: vector, length_in_words_scaled: vector, average_word_length_scaled: vector, capital_char_ratio_scaled: vector, long_word_ratio_scaled: vector, non_stop_word_ratio_scaled: vector, punctuation_ratio_scaled: vector, rawFeatures: vector, TF_IDF: vector, polarity_idx: double, features: vector, label: double, rawPrediction: vector, probability: vector, prediction: double, article_class: string]"
      ]
     },
     "execution_count": 69,
     "metadata": {},
     "output_type": "execute_result"
    }
   ],
   "source": [
    "pred_old_lr = cvModel_lr.transform(old_test_split)\n",
    "pred_new_lr = cvModel_lr.transform(new_test_split)\n",
    "pred_combined_lr = cvModel_lr.transform(combined_test)\n",
    "\n",
    "pred_old_lr.cache()\n",
    "pred_new_lr.cache()\n",
    "pred_combined_lr.cache()"
   ]
  },
  {
   "cell_type": "code",
   "execution_count": 70,
   "metadata": {
    "application/vnd.databricks.v1+cell": {
     "inputWidgets": {},
     "nuid": "5b17ea6f-b96e-4a13-a242-a4e2216847ce",
     "showTitle": false,
     "title": ""
    }
   },
   "outputs": [
    {
     "data": {
      "text/html": [
       "<div>\n",
       "<style scoped>\n",
       "    .dataframe tbody tr th:only-of-type {\n",
       "        vertical-align: middle;\n",
       "    }\n",
       "\n",
       "    .dataframe tbody tr th {\n",
       "        vertical-align: top;\n",
       "    }\n",
       "\n",
       "    .dataframe thead th {\n",
       "        text-align: right;\n",
       "    }\n",
       "</style>\n",
       "<table border=\"1\" class=\"dataframe\">\n",
       "  <thead>\n",
       "    <tr style=\"text-align: right;\">\n",
       "      <th></th>\n",
       "      <th>f1</th>\n",
       "      <th>numFeatures</th>\n",
       "      <th>regParam</th>\n",
       "    </tr>\n",
       "  </thead>\n",
       "  <tbody>\n",
       "    <tr>\n",
       "      <th>0</th>\n",
       "      <td>0.791431</td>\n",
       "      <td>10000</td>\n",
       "      <td>0.1</td>\n",
       "    </tr>\n",
       "    <tr>\n",
       "      <th>1</th>\n",
       "      <td>0.785407</td>\n",
       "      <td>10000</td>\n",
       "      <td>0.3</td>\n",
       "    </tr>\n",
       "    <tr>\n",
       "      <th>2</th>\n",
       "      <td>0.780055</td>\n",
       "      <td>10000</td>\n",
       "      <td>0.5</td>\n",
       "    </tr>\n",
       "    <tr>\n",
       "      <th>3</th>\n",
       "      <td>0.789159</td>\n",
       "      <td>20000</td>\n",
       "      <td>0.1</td>\n",
       "    </tr>\n",
       "    <tr>\n",
       "      <th>4</th>\n",
       "      <td>0.783702</td>\n",
       "      <td>20000</td>\n",
       "      <td>0.3</td>\n",
       "    </tr>\n",
       "    <tr>\n",
       "      <th>5</th>\n",
       "      <td>0.780651</td>\n",
       "      <td>20000</td>\n",
       "      <td>0.5</td>\n",
       "    </tr>\n",
       "    <tr>\n",
       "      <th>6</th>\n",
       "      <td>0.800504</td>\n",
       "      <td>50000</td>\n",
       "      <td>0.1</td>\n",
       "    </tr>\n",
       "    <tr>\n",
       "      <th>7</th>\n",
       "      <td>0.789846</td>\n",
       "      <td>50000</td>\n",
       "      <td>0.3</td>\n",
       "    </tr>\n",
       "    <tr>\n",
       "      <th>8</th>\n",
       "      <td>0.782900</td>\n",
       "      <td>50000</td>\n",
       "      <td>0.5</td>\n",
       "    </tr>\n",
       "  </tbody>\n",
       "</table>\n",
       "</div>"
      ],
      "text/plain": [
       "         f1  numFeatures  regParam\n",
       "0  0.791431        10000       0.1\n",
       "1  0.785407        10000       0.3\n",
       "2  0.780055        10000       0.5\n",
       "3  0.789159        20000       0.1\n",
       "4  0.783702        20000       0.3\n",
       "5  0.780651        20000       0.5\n",
       "6  0.800504        50000       0.1\n",
       "7  0.789846        50000       0.3\n",
       "8  0.782900        50000       0.5"
      ]
     },
     "execution_count": 70,
     "metadata": {},
     "output_type": "execute_result"
    }
   ],
   "source": [
    "params = [{\n",
    "      p.name: v\n",
    "      for p,\n",
    "      v in m.items()\n",
    "   }\n",
    "   for m in cvModel_lr.getEstimatorParamMaps()\n",
    "]\n",
    "import pandas as pd\n",
    "\n",
    "pd.DataFrame.from_dict([{\n",
    "      cvModel_lr.getEvaluator().getMetricName(): metric,\n",
    "      ** ps\n",
    "   }\n",
    "   for ps, metric in zip(params, cvModel_lr.avgMetrics)\n",
    "])"
   ]
  },
  {
   "cell_type": "code",
   "execution_count": 71,
   "metadata": {},
   "outputs": [
    {
     "name": "stdout",
     "output_type": "stream",
     "text": [
      "Best hashing number of features:  50000\n",
      "Best regularization parameter:  0.1\n"
     ]
    }
   ],
   "source": [
    "print(\"Best hashing number of features: \", cvModel_lr.bestModel.stages[1]._java_obj.getNumFeatures())\n",
    "print(\"Best regularization parameter: \", cvModel_lr.bestModel.stages[6]._java_obj.getRegParam())"
   ]
  },
  {
   "cell_type": "code",
   "execution_count": 72,
   "metadata": {
    "application/vnd.databricks.v1+cell": {
     "inputWidgets": {},
     "nuid": "ac5effea-f9df-4e16-8fca-b803b5ffc741",
     "showTitle": false,
     "title": ""
    }
   },
   "outputs": [
    {
     "name": "stdout",
     "output_type": "stream",
     "text": [
      "Logistic Regression\n",
      "new data:  0.7766990291262136\n",
      "old data:  0.8563049853372434\n",
      "combined data:  0.8263254113345521\n",
      "new data accuracy:  0.7766990291262136\n",
      "new data f1:  0.7498168897754367\n",
      "new data precision:  0.7313915857605179\n",
      "new data recall:  0.7766990291262136\n",
      "old data:  0.8563049853372434\n",
      "old data f1:  0.8562234001424587\n",
      "old data precision:  0.8579280116193675\n",
      "old data recall:  0.8563049853372434\n",
      "combined data:  0.8263254113345521\n",
      "combined data f1:  0.8236641191470369\n",
      "combined data precision:  0.8253535150332125\n",
      "combined data recall:  0.8263254113345522\n"
     ]
    }
   ],
   "source": [
    "from pyspark.ml.evaluation import MulticlassClassificationEvaluator\n",
    "print(\"Logistic Regression\")\n",
    "eval = MulticlassClassificationEvaluator(labelCol=\"label\",predictionCol=\"prediction\",metricName=\"accuracy\")\n",
    "acc_our_data = eval.evaluate(pred_new_lr)\n",
    "print(\"new data: \", acc_our_data)\n",
    "acc_original_data = eval.evaluate(pred_old_lr)\n",
    "print(\"old data: \", acc_original_data)\n",
    "acc_original_data = eval.evaluate(pred_combined_lr)\n",
    "print(\"combined data: \", acc_original_data)\n",
    "\n",
    "eval = MulticlassClassificationEvaluator(labelCol=\"label\",predictionCol=\"prediction\",metricName=\"accuracy\")\n",
    "evalf1 = MulticlassClassificationEvaluator(labelCol=\"label\",predictionCol=\"prediction\",metricName=\"f1\")\n",
    "evalprecision = MulticlassClassificationEvaluator(labelCol=\"label\",predictionCol=\"prediction\",metricName=\"weightedPrecision\")\n",
    "evalrecall = MulticlassClassificationEvaluator(labelCol=\"label\",predictionCol=\"prediction\",metricName=\"weightedRecall\")\n",
    "\n",
    "acc_new_data = eval.evaluate(pred_new_lr)\n",
    "print(\"new data accuracy: \", acc_new_data)\n",
    "f1_new_data = evalf1.evaluate(pred_new_lr)\n",
    "print(\"new data f1: \", f1_new_data)\n",
    "prec_new_data = evalprecision.evaluate(pred_new_lr)\n",
    "print(\"new data precision: \", prec_new_data)\n",
    "rec_new_data = evalrecall.evaluate(pred_new_lr)\n",
    "print(\"new data recall: \", rec_new_data)\n",
    "\n",
    "acc_old_data = eval.evaluate(pred_old_lr)\n",
    "print(\"old data: \", acc_old_data)\n",
    "f1_old_data = evalf1.evaluate(pred_old_lr)\n",
    "print(\"old data f1: \", f1_old_data)\n",
    "prec_old_data = evalprecision.evaluate(pred_old_lr)\n",
    "print(\"old data precision: \", prec_old_data)\n",
    "rec_old_data = evalrecall.evaluate(pred_old_lr)\n",
    "print(\"old data recall: \", rec_old_data)\n",
    "\n",
    "acc_combined_data = eval.evaluate(pred_combined_lr)\n",
    "print(\"combined data: \", acc_combined_data)\n",
    "f1_combined_data = evalf1.evaluate(pred_combined_lr)\n",
    "print(\"combined data f1: \", f1_combined_data)\n",
    "prec_combined_data = evalprecision.evaluate(pred_combined_lr)\n",
    "print(\"combined data precision: \", prec_combined_data)\n",
    "rec_combined_data = evalrecall.evaluate(pred_combined_lr)\n",
    "print(\"combined data recall: \", rec_combined_data)"
   ]
  },
  {
   "cell_type": "code",
   "execution_count": 73,
   "metadata": {},
   "outputs": [],
   "source": [
    "#Drew \n",
    "from sklearn.metrics import confusion_matrix\n",
    "import seaborn as sns\n",
    "import matplotlib.pyplot as plt\n",
    "import mglearn\n",
    "\n",
    "def plot_confusion_matrix(y_actual, y_pred, labels, title=''):\n",
    "    mat = confusion_matrix(y_actual, y_pred, labels=labels)\n",
    "    labels = ['real','fake']\n",
    "    sns.heatmap(mat, xticklabels=labels,  yticklabels=labels, square=True, annot=True, cbar=False,fmt='d')\n",
    "    plt.xlabel('predicted value')\n",
    "    plt.ylabel('true value')\n",
    "    plt.title(title)"
   ]
  },
  {
   "cell_type": "code",
   "execution_count": 74,
   "metadata": {},
   "outputs": [],
   "source": [
    "pred_new_lr = pred_new_lr.toPandas()\n",
    "pred_old_lr = pred_old_lr.toPandas()\n",
    "pred_combined_lr = pred_combined_lr.toPandas()"
   ]
  },
  {
   "cell_type": "code",
   "execution_count": 75,
   "metadata": {},
   "outputs": [
    {
     "data": {
      "image/png": "[encoded data removed]",
      "text/plain": [
       "<Figure size 432x288 with 1 Axes>"
      ]
     },
     "metadata": {
      "needs_background": "light"
     },
     "output_type": "display_data"
    }
   ],
   "source": [
    "plot_confusion_matrix(pred_new_lr['label'], pred_new_lr['prediction'], labels=[0,1], title = \"LR New Data\")"
   ]
  },
  {
   "cell_type": "code",
   "execution_count": 76,
   "metadata": {},
   "outputs": [
    {
     "data": {
      "image/png": "[encoded data removed]",
      "text/plain": [
       "<Figure size 432x288 with 1 Axes>"
      ]
     },
     "metadata": {
      "needs_background": "light"
     },
     "output_type": "display_data"
    }
   ],
   "source": [
    "plot_confusion_matrix(pred_old_lr['label'], pred_old_lr['prediction'], labels=[0,1],title = \"LR Old Data\")"
   ]
  },
  {
   "cell_type": "code",
   "execution_count": 77,
   "metadata": {},
   "outputs": [
    {
     "data": {
      "image/png": "[encoded data removed]",
      "text/plain": [
       "<Figure size 432x288 with 1 Axes>"
      ]
     },
     "metadata": {
      "needs_background": "light"
     },
     "output_type": "display_data"
    }
   ],
   "source": [
    "plot_confusion_matrix(pred_combined_lr['label'], pred_combined_lr['prediction'], labels=[0,1],title = \"LR Combined Data\")"
   ]
  },
  {
   "cell_type": "markdown",
   "metadata": {
    "application/vnd.databricks.v1+cell": {
     "inputWidgets": {},
     "nuid": "36d6df9a-7496-4fb1-b6e4-daad32262684",
     "showTitle": false,
     "title": ""
    }
   },
   "source": [
    "# SVC - Drew"
   ]
  },
  {
   "cell_type": "code",
   "execution_count": 73,
   "metadata": {
    "application/vnd.databricks.v1+cell": {
     "inputWidgets": {},
     "nuid": "3f799701-df27-46d0-a64b-7a30ed4debc8",
     "showTitle": false,
     "title": ""
    }
   },
   "outputs": [],
   "source": [
    "#Drew\n",
    "\n",
    "from pyspark.ml.feature import HashingTF, IDF, IndexToString, StringIndexer\n",
    "from pyspark.ml import Pipeline\n",
    "from pyspark.ml.feature import StandardScaler\n",
    "from pyspark.ml.classification import LogisticRegression\n",
    "from pyspark.ml.classification import RandomForestClassifier\n",
    "from pyspark.ml.classification import LinearSVC\n",
    "from pyspark.ml.classification import NaiveBayes\n",
    "from pyspark.ml.classification import GBTClassifier\n",
    "from pyspark.ml.feature import VectorAssembler\n",
    "from pyspark.ml.evaluation import MulticlassClassificationEvaluator\n",
    "\n",
    "columns_to_be_scaled = ['length_in_words', 'average_word_length', 'capital_char_ratio', 'long_word_ratio', 'non_stop_word_ratio', 'punctuation_ratio']\n",
    "assemblers = [VectorAssembler(inputCols=[col], outputCol=col + \"_vec\") for col in columns_to_be_scaled]\n",
    "scalers  = [StandardScaler(inputCol=col + \"_vec\", outputCol=col + \"_scaled\") for col in columns_to_be_scaled]\n",
    "scaling_pipeline = Pipeline(stages=assemblers + scalers)\n",
    "\n",
    "hashingTF = HashingTF(inputCol=\"stemmed\", outputCol=\"rawFeatures\", numFeatures=20000)\n",
    "idf = IDF(inputCol=\"rawFeatures\", outputCol=\"TF_IDF\", minDocFreq=2)\n",
    "label_strIdx1 = StringIndexer(inputCol=\"polarity\", outputCol=\"polarity_idx\")\n",
    "assembles = VectorAssembler(inputCols = ['TF_IDF','sentiment','polarity_idx', 'length_in_words_scaled', 'average_word_length_scaled', 'capital_char_ratio_scaled', 'long_word_ratio_scaled', 'non_stop_word_ratio_scaled', 'punctuation_ratio_scaled'],outputCol=\"features\")\n",
    "label_strIdx2 = StringIndexer(inputCol=\"real_fake\", outputCol=\"label\")\n",
    "svc = LinearSVC(featuresCol=\"features\",labelCol=\"label\")\n",
    "label_idxStr = IndexToString(inputCol = \"label\", outputCol = \"article_class\")\n",
    "\n",
    "pipeline_svc = Pipeline(stages=[scaling_pipeline, hashingTF, idf,label_strIdx1, assembles, label_strIdx2, svc ,label_idxStr])"
   ]
  },
  {
   "cell_type": "code",
   "execution_count": 74,
   "metadata": {
    "application/vnd.databricks.v1+cell": {
     "inputWidgets": {},
     "nuid": "49d91f36-503c-4d79-b470-3ad82aa04fe6",
     "showTitle": false,
     "title": ""
    }
   },
   "outputs": [],
   "source": [
    "from pyspark.ml.tuning import CrossValidator, ParamGridBuilder\n",
    "\n",
    "paramGrid = ParamGridBuilder() \\\n",
    "    .addGrid(hashingTF.numFeatures, [10000,20000,50000]) \\\n",
    "    .addGrid(svc.regParam, [0.001, 0.01, 0.01, 1.0]) \\\n",
    "    .build()\n",
    "crossval_svc = CrossValidator(estimator=pipeline_svc, estimatorParamMaps=paramGrid,evaluator= MulticlassClassificationEvaluator(),numFolds=5,parallelism = 100 )  # use 3+ folds in practice"
   ]
  },
  {
   "cell_type": "code",
   "execution_count": 75,
   "metadata": {
    "application/vnd.databricks.v1+cell": {
     "inputWidgets": {},
     "nuid": "aae04ef4-7e82-4787-9f67-ce779e494bed",
     "showTitle": false,
     "title": ""
    }
   },
   "outputs": [],
   "source": [
    "cvModel_svc = crossval_svc.fit(combined_train)"
   ]
  },
  {
   "cell_type": "code",
   "execution_count": 76,
   "metadata": {
    "application/vnd.databricks.v1+cell": {
     "inputWidgets": {},
     "nuid": "329ade46-f928-4ae6-8bc5-115ea6b86b91",
     "showTitle": false,
     "title": ""
    }
   },
   "outputs": [
    {
     "data": {
      "text/plain": [
       "DataFrame[Index: string, Review: string, stemmed: array<string>, sentiment: float, polarity: string, length_in_words: int, average_word_length: float, capital_char_ratio: float, long_word_ratio: float, non_stop_word_ratio: float, punctuation_ratio: float, real_fake: string, length_in_words_vec: vector, average_word_length_vec: vector, capital_char_ratio_vec: vector, long_word_ratio_vec: vector, non_stop_word_ratio_vec: vector, punctuation_ratio_vec: vector, length_in_words_scaled: vector, average_word_length_scaled: vector, capital_char_ratio_scaled: vector, long_word_ratio_scaled: vector, non_stop_word_ratio_scaled: vector, punctuation_ratio_scaled: vector, rawFeatures: vector, TF_IDF: vector, polarity_idx: double, features: vector, label: double, rawPrediction: vector, prediction: double, article_class: string]"
      ]
     },
     "execution_count": 76,
     "metadata": {},
     "output_type": "execute_result"
    }
   ],
   "source": [
    "pred_old_svc = cvModel_svc.transform(old_test_split)\n",
    "pred_new_svc = cvModel_svc.transform(new_test_split)\n",
    "pred_combined_svc = cvModel_svc.transform(combined_test)\n",
    "\n",
    "pred_old_svc.cache()\n",
    "pred_new_svc.cache()\n",
    "pred_combined_svc.cache()"
   ]
  },
  {
   "cell_type": "code",
   "execution_count": 77,
   "metadata": {
    "application/vnd.databricks.v1+cell": {
     "inputWidgets": {},
     "nuid": "be03b3b4-5580-467b-bee8-413a84d61fd0",
     "showTitle": false,
     "title": ""
    }
   },
   "outputs": [
    {
     "data": {
      "text/html": [
       "<div>\n",
       "<style scoped>\n",
       "    .dataframe tbody tr th:only-of-type {\n",
       "        vertical-align: middle;\n",
       "    }\n",
       "\n",
       "    .dataframe tbody tr th {\n",
       "        vertical-align: top;\n",
       "    }\n",
       "\n",
       "    .dataframe thead th {\n",
       "        text-align: right;\n",
       "    }\n",
       "</style>\n",
       "<table border=\"1\" class=\"dataframe\">\n",
       "  <thead>\n",
       "    <tr style=\"text-align: right;\">\n",
       "      <th></th>\n",
       "      <th>f1</th>\n",
       "      <th>numFeatures</th>\n",
       "      <th>regParam</th>\n",
       "    </tr>\n",
       "  </thead>\n",
       "  <tbody>\n",
       "    <tr>\n",
       "      <th>0</th>\n",
       "      <td>0.764708</td>\n",
       "      <td>10000</td>\n",
       "      <td>0.001</td>\n",
       "    </tr>\n",
       "    <tr>\n",
       "      <th>1</th>\n",
       "      <td>0.771835</td>\n",
       "      <td>10000</td>\n",
       "      <td>0.010</td>\n",
       "    </tr>\n",
       "    <tr>\n",
       "      <th>2</th>\n",
       "      <td>0.771835</td>\n",
       "      <td>10000</td>\n",
       "      <td>0.010</td>\n",
       "    </tr>\n",
       "    <tr>\n",
       "      <th>3</th>\n",
       "      <td>0.776334</td>\n",
       "      <td>10000</td>\n",
       "      <td>1.000</td>\n",
       "    </tr>\n",
       "    <tr>\n",
       "      <th>4</th>\n",
       "      <td>0.759178</td>\n",
       "      <td>20000</td>\n",
       "      <td>0.001</td>\n",
       "    </tr>\n",
       "    <tr>\n",
       "      <th>5</th>\n",
       "      <td>0.765598</td>\n",
       "      <td>20000</td>\n",
       "      <td>0.010</td>\n",
       "    </tr>\n",
       "    <tr>\n",
       "      <th>6</th>\n",
       "      <td>0.765598</td>\n",
       "      <td>20000</td>\n",
       "      <td>0.010</td>\n",
       "    </tr>\n",
       "    <tr>\n",
       "      <th>7</th>\n",
       "      <td>0.769944</td>\n",
       "      <td>20000</td>\n",
       "      <td>1.000</td>\n",
       "    </tr>\n",
       "    <tr>\n",
       "      <th>8</th>\n",
       "      <td>0.764153</td>\n",
       "      <td>50000</td>\n",
       "      <td>0.001</td>\n",
       "    </tr>\n",
       "    <tr>\n",
       "      <th>9</th>\n",
       "      <td>0.766673</td>\n",
       "      <td>50000</td>\n",
       "      <td>0.010</td>\n",
       "    </tr>\n",
       "    <tr>\n",
       "      <th>10</th>\n",
       "      <td>0.767398</td>\n",
       "      <td>50000</td>\n",
       "      <td>0.010</td>\n",
       "    </tr>\n",
       "    <tr>\n",
       "      <th>11</th>\n",
       "      <td>0.771298</td>\n",
       "      <td>50000</td>\n",
       "      <td>1.000</td>\n",
       "    </tr>\n",
       "  </tbody>\n",
       "</table>\n",
       "</div>"
      ],
      "text/plain": [
       "          f1  numFeatures  regParam\n",
       "0   0.764708        10000     0.001\n",
       "1   0.771835        10000     0.010\n",
       "2   0.771835        10000     0.010\n",
       "3   0.776334        10000     1.000\n",
       "4   0.759178        20000     0.001\n",
       "5   0.765598        20000     0.010\n",
       "6   0.765598        20000     0.010\n",
       "7   0.769944        20000     1.000\n",
       "8   0.764153        50000     0.001\n",
       "9   0.766673        50000     0.010\n",
       "10  0.767398        50000     0.010\n",
       "11  0.771298        50000     1.000"
      ]
     },
     "execution_count": 77,
     "metadata": {},
     "output_type": "execute_result"
    }
   ],
   "source": [
    "params = [{\n",
    "      p.name: v\n",
    "      for p,\n",
    "      v in m.items()\n",
    "   }\n",
    "   for m in cvModel_svc.getEstimatorParamMaps()\n",
    "]\n",
    "import pandas as pd\n",
    "\n",
    "pd.DataFrame.from_dict([{\n",
    "      cvModel_svc.getEvaluator().getMetricName(): metric,\n",
    "      ** ps\n",
    "   }\n",
    "   for ps, metric in zip(params, cvModel_svc.avgMetrics)\n",
    "])"
   ]
  },
  {
   "cell_type": "code",
   "execution_count": 78,
   "metadata": {},
   "outputs": [
    {
     "name": "stdout",
     "output_type": "stream",
     "text": [
      "Best hashing number of features:  10000\n",
      "Best regularization parameter:  1.0\n"
     ]
    }
   ],
   "source": [
    "print(\"Best hashing number of features: \", cvModel_svc.bestModel.stages[1]._java_obj.getNumFeatures())\n",
    "print(\"Best regularization parameter: \", cvModel_svc.bestModel.stages[6]._java_obj.getRegParam())"
   ]
  },
  {
   "cell_type": "code",
   "execution_count": 79,
   "metadata": {
    "application/vnd.databricks.v1+cell": {
     "inputWidgets": {},
     "nuid": "ff864e2e-ef69-44eb-a765-c93c186ad485",
     "showTitle": false,
     "title": ""
    }
   },
   "outputs": [
    {
     "name": "stdout",
     "output_type": "stream",
     "text": [
      "SVC\n",
      "new data:  0.8058252427184466\n",
      "old data:  0.8240469208211144\n",
      "combined data:  0.8171846435100548\n",
      "new data accuracy:  0.8058252427184466\n",
      "new data f1:  0.7443490647374142\n",
      "new data precision:  0.7099514563106796\n",
      "new data recall:  0.8058252427184466\n",
      "old data:  0.8240469208211144\n",
      "old data f1:  0.8237803252466009\n",
      "old data precision:  0.827162198268406\n",
      "old data recall:  0.8240469208211143\n",
      "combined data:  0.8171846435100548\n",
      "combined data f1:  0.8117053014057447\n",
      "combined data precision:  0.8192416083452032\n",
      "combined data recall:  0.8171846435100548\n"
     ]
    }
   ],
   "source": [
    "print(\"SVC\")\n",
    "eval = MulticlassClassificationEvaluator(labelCol=\"label\",predictionCol=\"prediction\",metricName=\"accuracy\")\n",
    "acc_new_data = eval.evaluate(pred_new_svc)\n",
    "print(\"new data: \", acc_new_data)\n",
    "acc_old_data = eval.evaluate(pred_old_svc)\n",
    "print(\"old data: \", acc_old_data)\n",
    "acc_combined_data = eval.evaluate(pred_combined_svc)\n",
    "print(\"combined data: \", acc_combined_data)\n",
    "\n",
    "eval = MulticlassClassificationEvaluator(labelCol=\"label\",predictionCol=\"prediction\",metricName=\"accuracy\")\n",
    "evalf1 = MulticlassClassificationEvaluator(labelCol=\"label\",predictionCol=\"prediction\",metricName=\"f1\")\n",
    "evalprecision = MulticlassClassificationEvaluator(labelCol=\"label\",predictionCol=\"prediction\",metricName=\"weightedPrecision\")\n",
    "evalrecall = MulticlassClassificationEvaluator(labelCol=\"label\",predictionCol=\"prediction\",metricName=\"weightedRecall\")\n",
    "\n",
    "acc_new_data = eval.evaluate(pred_new_svc)\n",
    "print(\"new data accuracy: \", acc_new_data)\n",
    "f1_new_data = evalf1.evaluate(pred_new_svc)\n",
    "print(\"new data f1: \", f1_new_data)\n",
    "prec_new_data = evalprecision.evaluate(pred_new_svc)\n",
    "print(\"new data precision: \", prec_new_data)\n",
    "rec_new_data = evalrecall.evaluate(pred_new_svc)\n",
    "print(\"new data recall: \", rec_new_data)\n",
    "\n",
    "acc_old_data = eval.evaluate(pred_old_svc)\n",
    "print(\"old data: \", acc_old_data)\n",
    "f1_old_data = evalf1.evaluate(pred_old_svc)\n",
    "print(\"old data f1: \", f1_old_data)\n",
    "prec_old_data = evalprecision.evaluate(pred_old_svc)\n",
    "print(\"old data precision: \", prec_old_data)\n",
    "rec_old_data = evalrecall.evaluate(pred_old_svc)\n",
    "print(\"old data recall: \", rec_old_data)\n",
    "\n",
    "acc_combined_data = eval.evaluate(pred_combined_svc)\n",
    "print(\"combined data: \", acc_combined_data)\n",
    "f1_combined_data = evalf1.evaluate(pred_combined_svc)\n",
    "print(\"combined data f1: \", f1_combined_data)\n",
    "prec_combined_data = evalprecision.evaluate(pred_combined_svc)\n",
    "print(\"combined data precision: \", prec_combined_data)\n",
    "rec_combined_data = evalrecall.evaluate(pred_combined_svc)\n",
    "print(\"combined data recall: \", rec_combined_data)"
   ]
  },
  {
   "cell_type": "code",
   "execution_count": 80,
   "metadata": {},
   "outputs": [],
   "source": [
    "from sklearn.metrics import confusion_matrix\n",
    "import seaborn as sns\n",
    "import matplotlib.pyplot as plt\n",
    "import mglearn\n",
    "\n",
    "def plot_confusion_matrix(y_actual, y_pred, labels, title=''):\n",
    "    mat = confusion_matrix(y_actual, y_pred, labels=labels)\n",
    "    labels = ['real','fake']\n",
    "    sns.heatmap(mat, xticklabels=labels,  yticklabels=labels, square=True, annot=True, cbar=False,fmt='d')\n",
    "    plt.xlabel('predicted value')\n",
    "    plt.ylabel('true value')\n",
    "    plt.title(title)"
   ]
  },
  {
   "cell_type": "code",
   "execution_count": 81,
   "metadata": {},
   "outputs": [],
   "source": [
    "pred_new_svc = pred_new_svc.toPandas()\n",
    "pred_old_svc = pred_old_svc.toPandas()\n",
    "pred_combined_svc = pred_combined_svc.toPandas()"
   ]
  },
  {
   "cell_type": "code",
   "execution_count": 82,
   "metadata": {},
   "outputs": [
    {
     "data": {
      "image/png": "[encoded data removed]",
      "text/plain": [
       "<Figure size 432x288 with 1 Axes>"
      ]
     },
     "metadata": {
      "needs_background": "light"
     },
     "output_type": "display_data"
    }
   ],
   "source": [
    "plot_confusion_matrix(pred_new_svc['label'], pred_new_svc['prediction'], labels=[0,1], title = \"SVC New Data\")"
   ]
  },
  {
   "cell_type": "code",
   "execution_count": 83,
   "metadata": {},
   "outputs": [
    {
     "data": {
      "image/png": "[encoded data removed]",
      "text/plain": [
       "<Figure size 432x288 with 1 Axes>"
      ]
     },
     "metadata": {
      "needs_background": "light"
     },
     "output_type": "display_data"
    }
   ],
   "source": [
    "plot_confusion_matrix(pred_old_svc['label'], pred_old_svc['prediction'], labels=[0,1], title = \"SVC Old Data\")"
   ]
  },
  {
   "cell_type": "code",
   "execution_count": 84,
   "metadata": {},
   "outputs": [
    {
     "data": {
      "image/png": "[encoded data removed]",
      "text/plain": [
       "<Figure size 432x288 with 1 Axes>"
      ]
     },
     "metadata": {
      "needs_background": "light"
     },
     "output_type": "display_data"
    }
   ],
   "source": [
    "plot_confusion_matrix(pred_combined_svc['label'], pred_combined_svc['prediction'], labels=[0,1], title = \"SVC Combined Data\")"
   ]
  },
  {
   "cell_type": "markdown",
   "metadata": {
    "application/vnd.databricks.v1+cell": {
     "inputWidgets": {},
     "nuid": "f7658b42-f71f-4a83-bf39-abb1fc9ff528",
     "showTitle": false,
     "title": ""
    }
   },
   "source": [
    "# Random Forest Classifier - Greg"
   ]
  },
  {
   "cell_type": "code",
   "execution_count": 19,
   "metadata": {
    "application/vnd.databricks.v1+cell": {
     "inputWidgets": {},
     "nuid": "0599ab1f-da8e-42d3-8f66-10de5283b7bd",
     "showTitle": false,
     "title": ""
    }
   },
   "outputs": [],
   "source": [
    "#greg\n",
    "\n",
    "from pyspark.ml.feature import HashingTF, IDF, IndexToString, StringIndexer\n",
    "from pyspark.ml import Pipeline\n",
    "from pyspark.ml.feature import StandardScaler\n",
    "from pyspark.ml.classification import LogisticRegression\n",
    "from pyspark.ml.classification import RandomForestClassifier\n",
    "from pyspark.ml.classification import LinearSVC\n",
    "from pyspark.ml.classification import NaiveBayes\n",
    "from pyspark.ml.classification import GBTClassifier\n",
    "from pyspark.ml.feature import VectorAssembler\n",
    "from pyspark.ml.evaluation import MulticlassClassificationEvaluator\n",
    "\n",
    "columns_to_be_scaled = ['length_in_words', 'average_word_length', 'capital_char_ratio', 'long_word_ratio', 'non_stop_word_ratio', 'punctuation_ratio']\n",
    "assemblers = [VectorAssembler(inputCols=[col], outputCol=col + \"_vec\") for col in columns_to_be_scaled]\n",
    "scalers  = [StandardScaler(inputCol=col + \"_vec\", outputCol=col + \"_scaled\") for col in columns_to_be_scaled]\n",
    "scaling_pipeline = Pipeline(stages=assemblers + scalers)\n",
    "\n",
    "hashingTF = HashingTF(inputCol=\"stemmed\", outputCol=\"rawFeatures\")\n",
    "idf = IDF(inputCol=\"rawFeatures\", outputCol=\"TF_IDF\", minDocFreq=2)\n",
    "label_strIdx1 = StringIndexer(inputCol=\"polarity\", outputCol=\"polarity_idx\")\n",
    "assembles = VectorAssembler(inputCols = ['TF_IDF','sentiment','polarity_idx', 'length_in_words_scaled', 'average_word_length_scaled', 'capital_char_ratio_scaled', 'long_word_ratio_scaled', 'non_stop_word_ratio_scaled', 'punctuation_ratio_scaled'],outputCol=\"features\")\n",
    "label_strIdx2 = StringIndexer(inputCol=\"real_fake\", outputCol=\"label\")\n",
    "rfc = RandomForestClassifier(featuresCol=\"features\",labelCol=\"label\")\n",
    "label_idxStr = IndexToString(inputCol = \"label\", outputCol = \"article_class\")\n",
    "\n",
    "pipeline_rfc = Pipeline(stages=[scaling_pipeline, hashingTF, idf,label_strIdx1 , assembles, label_strIdx2, rfc ,label_idxStr])"
   ]
  },
  {
   "cell_type": "code",
   "execution_count": 20,
   "metadata": {
    "application/vnd.databricks.v1+cell": {
     "inputWidgets": {},
     "nuid": "6e1e2603-e78f-4d46-9076-b9e68ffe560e",
     "showTitle": false,
     "title": ""
    }
   },
   "outputs": [],
   "source": [
    "from pyspark.ml.tuning import CrossValidator, ParamGridBuilder\n",
    "\n",
    "paramGrid = ParamGridBuilder() \\\n",
    "    .addGrid(hashingTF.numFeatures, [10000,20000,50000]) \\\n",
    "    .addGrid(rfc.maxDepth, [3, 5, 9]) \\\n",
    "    .addGrid(rfc.numTrees, [10, 20, 50]) \\\n",
    "    .build()\n",
    "crossval_rfc = CrossValidator(estimator=pipeline_rfc, estimatorParamMaps=paramGrid,evaluator= MulticlassClassificationEvaluator(),numFolds=5,parallelism = 100 )  # use 3+ folds in practice"
   ]
  },
  {
   "cell_type": "code",
   "execution_count": null,
   "metadata": {
    "application/vnd.databricks.v1+cell": {
     "inputWidgets": {},
     "nuid": "e0feb797-f609-4b3c-888b-657252e158cb",
     "showTitle": false,
     "title": ""
    }
   },
   "outputs": [],
   "source": [
    "cvModel_rfc = crossval_rfc.fit(combined_train)"
   ]
  },
  {
   "cell_type": "code",
   "execution_count": 26,
   "metadata": {
    "application/vnd.databricks.v1+cell": {
     "inputWidgets": {},
     "nuid": "138d2052-99b7-4063-a696-7c484b5de9b3",
     "showTitle": false,
     "title": ""
    },
    "tags": []
   },
   "outputs": [
    {
     "data": {
      "text/plain": [
       "DataFrame[Index: string, Review: string, stemmed: array<string>, sentiment: float, polarity: string, length_in_words: int, average_word_length: float, capital_char_ratio: float, long_word_ratio: float, non_stop_word_ratio: float, punctuation_ratio: float, real_fake: string, length_in_words_vec: vector, average_word_length_vec: vector, capital_char_ratio_vec: vector, long_word_ratio_vec: vector, non_stop_word_ratio_vec: vector, punctuation_ratio_vec: vector, length_in_words_scaled: vector, average_word_length_scaled: vector, capital_char_ratio_scaled: vector, long_word_ratio_scaled: vector, non_stop_word_ratio_scaled: vector, punctuation_ratio_scaled: vector, rawFeatures: vector, TF_IDF: vector, polarity_idx: double, features: vector, label: double, rawPrediction: vector, probability: vector, prediction: double, article_class: string]"
      ]
     },
     "execution_count": 26,
     "metadata": {},
     "output_type": "execute_result"
    }
   ],
   "source": [
    "pred_old_rfc = cvModel_rfc.transform(old_test_split)\n",
    "pred_new_rfc = cvModel_rfc.transform(new_test_split)\n",
    "pred_combined_rfc = cvModel_rfc.transform(combined_test)\n",
    "\n",
    "pred_old_rfc.cache()\n",
    "pred_new_rfc.cache()\n",
    "pred_combined_rfc.cache()"
   ]
  },
  {
   "cell_type": "code",
   "execution_count": 27,
   "metadata": {
    "application/vnd.databricks.v1+cell": {
     "inputWidgets": {},
     "nuid": "d6013933-4374-488a-88f6-f9085b0b7fbe",
     "showTitle": false,
     "title": ""
    }
   },
   "outputs": [
    {
     "data": {
      "text/html": [
       "<div>\n",
       "<style scoped>\n",
       "    .dataframe tbody tr th:only-of-type {\n",
       "        vertical-align: middle;\n",
       "    }\n",
       "\n",
       "    .dataframe tbody tr th {\n",
       "        vertical-align: top;\n",
       "    }\n",
       "\n",
       "    .dataframe thead th {\n",
       "        text-align: right;\n",
       "    }\n",
       "</style>\n",
       "<table border=\"1\" class=\"dataframe\">\n",
       "  <thead>\n",
       "    <tr style=\"text-align: right;\">\n",
       "      <th></th>\n",
       "      <th>f1</th>\n",
       "      <th>numFeatures</th>\n",
       "      <th>maxDepth</th>\n",
       "      <th>numTrees</th>\n",
       "    </tr>\n",
       "  </thead>\n",
       "  <tbody>\n",
       "    <tr>\n",
       "      <th>0</th>\n",
       "      <td>0.480488</td>\n",
       "      <td>10000</td>\n",
       "      <td>3</td>\n",
       "      <td>10</td>\n",
       "    </tr>\n",
       "    <tr>\n",
       "      <th>1</th>\n",
       "      <td>0.479452</td>\n",
       "      <td>10000</td>\n",
       "      <td>3</td>\n",
       "      <td>20</td>\n",
       "    </tr>\n",
       "    <tr>\n",
       "      <th>2</th>\n",
       "      <td>0.476418</td>\n",
       "      <td>10000</td>\n",
       "      <td>3</td>\n",
       "      <td>50</td>\n",
       "    </tr>\n",
       "    <tr>\n",
       "      <th>3</th>\n",
       "      <td>0.507955</td>\n",
       "      <td>10000</td>\n",
       "      <td>5</td>\n",
       "      <td>10</td>\n",
       "    </tr>\n",
       "    <tr>\n",
       "      <th>4</th>\n",
       "      <td>0.491458</td>\n",
       "      <td>10000</td>\n",
       "      <td>5</td>\n",
       "      <td>20</td>\n",
       "    </tr>\n",
       "    <tr>\n",
       "      <th>5</th>\n",
       "      <td>0.494541</td>\n",
       "      <td>10000</td>\n",
       "      <td>5</td>\n",
       "      <td>50</td>\n",
       "    </tr>\n",
       "    <tr>\n",
       "      <th>6</th>\n",
       "      <td>0.584245</td>\n",
       "      <td>10000</td>\n",
       "      <td>9</td>\n",
       "      <td>10</td>\n",
       "    </tr>\n",
       "    <tr>\n",
       "      <th>7</th>\n",
       "      <td>0.572209</td>\n",
       "      <td>10000</td>\n",
       "      <td>9</td>\n",
       "      <td>20</td>\n",
       "    </tr>\n",
       "    <tr>\n",
       "      <th>8</th>\n",
       "      <td>0.568334</td>\n",
       "      <td>10000</td>\n",
       "      <td>9</td>\n",
       "      <td>50</td>\n",
       "    </tr>\n",
       "    <tr>\n",
       "      <th>9</th>\n",
       "      <td>0.487361</td>\n",
       "      <td>20000</td>\n",
       "      <td>3</td>\n",
       "      <td>10</td>\n",
       "    </tr>\n",
       "    <tr>\n",
       "      <th>10</th>\n",
       "      <td>0.478572</td>\n",
       "      <td>20000</td>\n",
       "      <td>3</td>\n",
       "      <td>20</td>\n",
       "    </tr>\n",
       "    <tr>\n",
       "      <th>11</th>\n",
       "      <td>0.476418</td>\n",
       "      <td>20000</td>\n",
       "      <td>3</td>\n",
       "      <td>50</td>\n",
       "    </tr>\n",
       "    <tr>\n",
       "      <th>12</th>\n",
       "      <td>0.515538</td>\n",
       "      <td>20000</td>\n",
       "      <td>5</td>\n",
       "      <td>10</td>\n",
       "    </tr>\n",
       "    <tr>\n",
       "      <th>13</th>\n",
       "      <td>0.487017</td>\n",
       "      <td>20000</td>\n",
       "      <td>5</td>\n",
       "      <td>20</td>\n",
       "    </tr>\n",
       "    <tr>\n",
       "      <th>14</th>\n",
       "      <td>0.480769</td>\n",
       "      <td>20000</td>\n",
       "      <td>5</td>\n",
       "      <td>50</td>\n",
       "    </tr>\n",
       "    <tr>\n",
       "      <th>15</th>\n",
       "      <td>0.577798</td>\n",
       "      <td>20000</td>\n",
       "      <td>9</td>\n",
       "      <td>10</td>\n",
       "    </tr>\n",
       "    <tr>\n",
       "      <th>16</th>\n",
       "      <td>0.554077</td>\n",
       "      <td>20000</td>\n",
       "      <td>9</td>\n",
       "      <td>20</td>\n",
       "    </tr>\n",
       "    <tr>\n",
       "      <th>17</th>\n",
       "      <td>0.535860</td>\n",
       "      <td>20000</td>\n",
       "      <td>9</td>\n",
       "      <td>50</td>\n",
       "    </tr>\n",
       "    <tr>\n",
       "      <th>18</th>\n",
       "      <td>0.483851</td>\n",
       "      <td>50000</td>\n",
       "      <td>3</td>\n",
       "      <td>10</td>\n",
       "    </tr>\n",
       "    <tr>\n",
       "      <th>19</th>\n",
       "      <td>0.477560</td>\n",
       "      <td>50000</td>\n",
       "      <td>3</td>\n",
       "      <td>20</td>\n",
       "    </tr>\n",
       "    <tr>\n",
       "      <th>20</th>\n",
       "      <td>0.476418</td>\n",
       "      <td>50000</td>\n",
       "      <td>3</td>\n",
       "      <td>50</td>\n",
       "    </tr>\n",
       "    <tr>\n",
       "      <th>21</th>\n",
       "      <td>0.499991</td>\n",
       "      <td>50000</td>\n",
       "      <td>5</td>\n",
       "      <td>10</td>\n",
       "    </tr>\n",
       "    <tr>\n",
       "      <th>22</th>\n",
       "      <td>0.481943</td>\n",
       "      <td>50000</td>\n",
       "      <td>5</td>\n",
       "      <td>20</td>\n",
       "    </tr>\n",
       "    <tr>\n",
       "      <th>23</th>\n",
       "      <td>0.477506</td>\n",
       "      <td>50000</td>\n",
       "      <td>5</td>\n",
       "      <td>50</td>\n",
       "    </tr>\n",
       "    <tr>\n",
       "      <th>24</th>\n",
       "      <td>0.533764</td>\n",
       "      <td>50000</td>\n",
       "      <td>9</td>\n",
       "      <td>10</td>\n",
       "    </tr>\n",
       "    <tr>\n",
       "      <th>25</th>\n",
       "      <td>0.509176</td>\n",
       "      <td>50000</td>\n",
       "      <td>9</td>\n",
       "      <td>20</td>\n",
       "    </tr>\n",
       "    <tr>\n",
       "      <th>26</th>\n",
       "      <td>0.504979</td>\n",
       "      <td>50000</td>\n",
       "      <td>9</td>\n",
       "      <td>50</td>\n",
       "    </tr>\n",
       "  </tbody>\n",
       "</table>\n",
       "</div>"
      ],
      "text/plain": [
       "          f1  numFeatures  maxDepth  numTrees\n",
       "0   0.480488        10000         3        10\n",
       "1   0.479452        10000         3        20\n",
       "2   0.476418        10000         3        50\n",
       "3   0.507955        10000         5        10\n",
       "4   0.491458        10000         5        20\n",
       "5   0.494541        10000         5        50\n",
       "6   0.584245        10000         9        10\n",
       "7   0.572209        10000         9        20\n",
       "8   0.568334        10000         9        50\n",
       "9   0.487361        20000         3        10\n",
       "10  0.478572        20000         3        20\n",
       "11  0.476418        20000         3        50\n",
       "12  0.515538        20000         5        10\n",
       "13  0.487017        20000         5        20\n",
       "14  0.480769        20000         5        50\n",
       "15  0.577798        20000         9        10\n",
       "16  0.554077        20000         9        20\n",
       "17  0.535860        20000         9        50\n",
       "18  0.483851        50000         3        10\n",
       "19  0.477560        50000         3        20\n",
       "20  0.476418        50000         3        50\n",
       "21  0.499991        50000         5        10\n",
       "22  0.481943        50000         5        20\n",
       "23  0.477506        50000         5        50\n",
       "24  0.533764        50000         9        10\n",
       "25  0.509176        50000         9        20\n",
       "26  0.504979        50000         9        50"
      ]
     },
     "execution_count": 27,
     "metadata": {},
     "output_type": "execute_result"
    }
   ],
   "source": [
    "params = [{\n",
    "      p.name: v\n",
    "      for p,\n",
    "      v in m.items()\n",
    "   }\n",
    "   for m in cvModel_rfc.getEstimatorParamMaps()\n",
    "]\n",
    "import pandas as pd\n",
    "\n",
    "pd.DataFrame.from_dict([{\n",
    "      cvModel_rfc.getEvaluator().getMetricName(): metric,\n",
    "      ** ps\n",
    "   } for ps, metric in zip(params, cvModel_rfc.avgMetrics)\n",
    "])"
   ]
  },
  {
   "cell_type": "code",
   "execution_count": 28,
   "metadata": {
    "application/vnd.databricks.v1+cell": {
     "inputWidgets": {},
     "nuid": "21aad708-7bee-4e5d-9573-e68b33449ec9",
     "showTitle": false,
     "title": ""
    }
   },
   "outputs": [
    {
     "name": "stdout",
     "output_type": "stream",
     "text": [
      "Best hashing number of features:  10000\n",
      "Best max depth parameter:  9\n",
      "Best numTrees parameter:  10\n"
     ]
    }
   ],
   "source": [
    "print(\"Best hashing number of features: \", cvModel_rfc.bestModel.stages[1]._java_obj.getNumFeatures())\n",
    "print(\"Best max depth parameter: \", cvModel_rfc.bestModel.stages[6]._java_obj.getMaxDepth())\n",
    "print(\"Best numTrees parameter: \", cvModel_rfc.bestModel.stages[6]._java_obj.getNumTrees())"
   ]
  },
  {
   "cell_type": "code",
   "execution_count": 29,
   "metadata": {
    "application/vnd.databricks.v1+cell": {
     "inputWidgets": {},
     "nuid": "b76923da-9953-4425-a33a-5804b06e0c3a",
     "showTitle": false,
     "title": ""
    }
   },
   "outputs": [
    {
     "name": "stdout",
     "output_type": "stream",
     "text": [
      "Random Forest\n",
      "new data:  0.8252427184466019\n",
      "old data:  0.5982404692082112\n",
      "combined data:  0.6837294332723949\n",
      "new data accuracy:  0.8252427184466019\n",
      "new data f1:  0.7462301177442676\n",
      "new data precision:  0.6810255443491375\n",
      "new data recall:  0.8252427184466019\n",
      "old data:  0.5982404692082112\n",
      "old data f1:  0.545471240426477\n",
      "old data precision:  0.6957179982357009\n",
      "old data recall:  0.5982404692082111\n",
      "combined data:  0.6837294332723949\n",
      "combined data f1:  0.6200275836187676\n",
      "combined data precision:  0.7307651422165033\n",
      "combined data recall:  0.6837294332723949\n"
     ]
    }
   ],
   "source": [
    "print(\"Random Forest\")\n",
    "eval = MulticlassClassificationEvaluator(labelCol=\"label\",predictionCol=\"prediction\",metricName=\"accuracy\")\n",
    "acc_new_data = eval.evaluate(pred_new_rfc)\n",
    "print(\"new data: \", acc_new_data)\n",
    "acc_old_data = eval.evaluate(pred_old_rfc)\n",
    "print(\"old data: \", acc_old_data)\n",
    "acc_combined_data = eval.evaluate(pred_combined_rfc)\n",
    "print(\"combined data: \", acc_combined_data)\n",
    "\n",
    "eval = MulticlassClassificationEvaluator(labelCol=\"label\",predictionCol=\"prediction\",metricName=\"accuracy\")\n",
    "evalf1 = MulticlassClassificationEvaluator(labelCol=\"label\",predictionCol=\"prediction\",metricName=\"f1\")\n",
    "evalprecision = MulticlassClassificationEvaluator(labelCol=\"label\",predictionCol=\"prediction\",metricName=\"weightedPrecision\")\n",
    "evalrecall = MulticlassClassificationEvaluator(labelCol=\"label\",predictionCol=\"prediction\",metricName=\"weightedRecall\")\n",
    "\n",
    "acc_new_data = eval.evaluate(pred_new_rfc)\n",
    "print(\"new data accuracy: \", acc_new_data)\n",
    "f1_new_data = evalf1.evaluate(pred_new_rfc)\n",
    "print(\"new data f1: \", f1_new_data)\n",
    "prec_new_data = evalprecision.evaluate(pred_new_rfc)\n",
    "print(\"new data precision: \", prec_new_data)\n",
    "rec_new_data = evalrecall.evaluate(pred_new_rfc)\n",
    "print(\"new data recall: \", rec_new_data)\n",
    "\n",
    "acc_old_data = eval.evaluate(pred_old_rfc)\n",
    "print(\"old data: \", acc_old_data)\n",
    "f1_old_data = evalf1.evaluate(pred_old_rfc)\n",
    "print(\"old data f1: \", f1_old_data)\n",
    "prec_old_data = evalprecision.evaluate(pred_old_rfc)\n",
    "print(\"old data precision: \", prec_old_data)\n",
    "rec_old_data = evalrecall.evaluate(pred_old_rfc)\n",
    "print(\"old data recall: \", rec_old_data)\n",
    "\n",
    "acc_combined_data = eval.evaluate(pred_combined_rfc)\n",
    "print(\"combined data: \", acc_combined_data)\n",
    "f1_combined_data = evalf1.evaluate(pred_combined_rfc)\n",
    "print(\"combined data f1: \", f1_combined_data)\n",
    "prec_combined_data = evalprecision.evaluate(pred_combined_rfc)\n",
    "print(\"combined data precision: \", prec_combined_data)\n",
    "rec_combined_data = evalrecall.evaluate(pred_combined_rfc)\n",
    "print(\"combined data recall: \", rec_combined_data)"
   ]
  },
  {
   "cell_type": "code",
   "execution_count": 30,
   "metadata": {},
   "outputs": [],
   "source": [
    "from sklearn.metrics import confusion_matrix\n",
    "import seaborn as sns\n",
    "import matplotlib.pyplot as plt\n",
    "import mglearn\n",
    "\n",
    "def plot_confusion_matrix(y_actual, y_pred, labels, title=''):\n",
    "    mat = confusion_matrix(y_actual, y_pred, labels=labels)\n",
    "    labels = ['real','fake']\n",
    "    sns.heatmap(mat, xticklabels=labels,  yticklabels=labels, square=True, annot=True, cbar=False,fmt='d')\n",
    "    plt.xlabel('predicted value')\n",
    "    plt.ylabel('true value')\n",
    "    plt.title(title)"
   ]
  },
  {
   "cell_type": "code",
   "execution_count": 31,
   "metadata": {},
   "outputs": [],
   "source": [
    "pred_new_rfc = pred_new_rfc.toPandas()\n",
    "pred_old_rfc = pred_old_rfc.toPandas()\n",
    "pred_combined_rfc = pred_combined_rfc.toPandas()"
   ]
  },
  {
   "cell_type": "code",
   "execution_count": 32,
   "metadata": {},
   "outputs": [
    {
     "data": {
      "image/png": "[encoded data removed]",
      "text/plain": [
       "<Figure size 432x288 with 1 Axes>"
      ]
     },
     "metadata": {
      "needs_background": "light"
     },
     "output_type": "display_data"
    }
   ],
   "source": [
    "plot_confusion_matrix(pred_new_rfc['label'], pred_new_rfc['prediction'], labels=[0,1],title = \"RFC New Data\")"
   ]
  },
  {
   "cell_type": "code",
   "execution_count": 33,
   "metadata": {},
   "outputs": [
    {
     "data": {
      "image/png": "[encoded data removed]",
      "text/plain": [
       "<Figure size 432x288 with 1 Axes>"
      ]
     },
     "metadata": {
      "needs_background": "light"
     },
     "output_type": "display_data"
    }
   ],
   "source": [
    "plot_confusion_matrix(pred_old_rfc['label'], pred_old_rfc['prediction'], labels=[0,1],title = \"RFC Old Data\")"
   ]
  },
  {
   "cell_type": "code",
   "execution_count": 34,
   "metadata": {},
   "outputs": [
    {
     "data": {
      "image/png": "[encoded data removed]",
      "text/plain": [
       "<Figure size 432x288 with 1 Axes>"
      ]
     },
     "metadata": {
      "needs_background": "light"
     },
     "output_type": "display_data"
    }
   ],
   "source": [
    "plot_confusion_matrix(pred_combined_rfc['label'], pred_combined_rfc['prediction'], labels=[0,1],title = \"RFC Combined Data\")"
   ]
  },
  {
   "cell_type": "markdown",
   "metadata": {
    "application/vnd.databricks.v1+cell": {
     "inputWidgets": {},
     "nuid": "e922df5a-b593-45c5-9133-715eb2447df1",
     "showTitle": false,
     "title": ""
    }
   },
   "source": [
    "# Gradient Boosting Classifier - Greg\n",
    "#### See report, after initial testing it was decided to not continue with gradient boosting due to the very long run time and poor performance in random forest"
   ]
  },
  {
   "cell_type": "code",
   "execution_count": null,
   "metadata": {
    "application/vnd.databricks.v1+cell": {
     "inputWidgets": {},
     "nuid": "90b652ab-a772-4043-8e29-f085d3822a17",
     "showTitle": false,
     "title": ""
    }
   },
   "outputs": [],
   "source": [
    "# # #greg\n",
    "\n",
    "# from pyspark.ml.feature import HashingTF, IDF, IndexToString, StringIndexer\n",
    "# from pyspark.ml import Pipeline\n",
    "# from pyspark.ml.feature import StandardScaler\n",
    "# from pyspark.ml.classification import LogisticRegression\n",
    "# from pyspark.ml.classification import RandomForestClassifier\n",
    "# from pyspark.ml.classification import LinearSVC\n",
    "# from pyspark.ml.classification import NaiveBayes\n",
    "# from pyspark.ml.classification import GBTClassifier\n",
    "# from pyspark.ml.feature import VectorAssembler\n",
    "# from pyspark.ml.evaluation import MulticlassClassificationEvaluator\n",
    "\n",
    "# columns_to_be_scaled = ['length_in_words', 'average_word_length', 'capital_char_ratio', 'long_word_ratio', 'non_stop_word_ratio', 'punctuation_ratio']\n",
    "# assemblers = [VectorAssembler(inputCols=[col], outputCol=col + \"_vec\") for col in columns_to_be_scaled]\n",
    "# scalers  = [StandardScaler(inputCol=col + \"_vec\", outputCol=col + \"_scaled\") for col in columns_to_be_scaled]\n",
    "# scaling_pipeline = Pipeline(stages=assemblers + scalers)\n",
    "\n",
    "# hashingTF = HashingTF(inputCol=\"stemmed\", outputCol=\"rawFeatures\")\n",
    "# idf = IDF(inputCol=\"rawFeatures\", outputCol=\"TF_IDF\", minDocFreq=2)\n",
    "# label_strIdx1 = StringIndexer(inputCol=\"polarity\", outputCol=\"polarity_idx\")\n",
    "# assembles = VectorAssembler(inputCols = ['TF_IDF','sentiment','polarity_idx', 'length_in_words_scaled', 'average_word_length_scaled', 'capital_char_ratio_scaled', 'long_word_ratio_scaled', 'non_stop_word_ratio_scaled', 'punctuation_ratio_scaled'],outputCol=\"features\")\n",
    "# label_strIdx2 = StringIndexer(inputCol=\"real_fake\", outputCol=\"label\")\n",
    "# gbtc = GBTClassifier(featuresCol=\"features\",labelCol=\"label\")\n",
    "# label_idxStr = IndexToString(inputCol = \"label\", outputCol = \"article_class\")\n",
    "\n",
    "# pipeline_gbtc = Pipeline(stages=[scaling_pipeline, hashingTF, idf,label_strIdx1 , assembles, label_strIdx2, gbtc ,label_idxStr])"
   ]
  },
  {
   "cell_type": "code",
   "execution_count": null,
   "metadata": {
    "application/vnd.databricks.v1+cell": {
     "inputWidgets": {},
     "nuid": "9b96545f-0290-463f-91d8-9dbbb9d5ee28",
     "showTitle": false,
     "title": ""
    }
   },
   "outputs": [],
   "source": [
    "# from pyspark.ml.tuning import CrossValidator, ParamGridBuilder\n",
    "\n",
    "# paramGrid = ParamGridBuilder() \\\n",
    "#     .addGrid(hashingTF.numFeatures, [10000,16384,32768]) \\\n",
    "#     .addGrid(gbtc.maxDepth, [3, 5, 7]) \\\n",
    "#     .addGrid(gbtc.stepSize, [0.1, 0.5, 1.0]) \\\n",
    "#     .build()\n",
    "# crossval_gbtc = CrossValidator(estimator=pipeline_gbtc, estimatorParamMaps=paramGrid,evaluator= MulticlassClassificationEvaluator(),numFolds=2,parallelism = 100 )  # use 3+ folds in practice"
   ]
  },
  {
   "cell_type": "code",
   "execution_count": null,
   "metadata": {
    "application/vnd.databricks.v1+cell": {
     "inputWidgets": {},
     "nuid": "6e35df8d-584c-4660-b87a-bced02d0593e",
     "showTitle": false,
     "title": ""
    }
   },
   "outputs": [],
   "source": [
    "#cvModel_gbtc = pipeline_gbtc.fit(combined_train)\n",
    "#cvModel_gbtc = crossval_gbtc.fit(combined_train)"
   ]
  },
  {
   "cell_type": "code",
   "execution_count": null,
   "metadata": {
    "application/vnd.databricks.v1+cell": {
     "inputWidgets": {},
     "nuid": "ae61eafd-dfc0-4400-a157-054eaa25ea5b",
     "showTitle": false,
     "title": ""
    }
   },
   "outputs": [],
   "source": [
    "# pred_old_gbtc = cvModel_gbtc.transform(old_test_split)\n",
    "# pred_new_gbtc = cvModel_gbtc.transform(new_test_split)\n",
    "# pred_combined_gbtc = cvModel_gbtc.transform(combined_test)\n",
    "\n",
    "# pred_old_gbtc.cache()\n",
    "# pred_new_gbtc.cache()\n",
    "# pred_combined_gbtc.cache()"
   ]
  },
  {
   "cell_type": "code",
   "execution_count": null,
   "metadata": {
    "application/vnd.databricks.v1+cell": {
     "inputWidgets": {},
     "nuid": "c11bf18f-5dc3-45ef-97bf-7655451a4260",
     "showTitle": false,
     "title": ""
    }
   },
   "outputs": [],
   "source": [
    "# eval = MulticlassClassificationEvaluator(labelCol=\"label\",predictionCol=\"prediction\",metricName=\"accuracy\")\n",
    "# acc_new_data = eval.evaluate(pred_new_gbtc)\n",
    "# print(\"new data: \", acc_new_data)\n",
    "# acc_old_data = eval.evaluate(pred_old_gbtc)\n",
    "# print(\"old data: \", acc_old_data)\n",
    "# acc_combined_data = eval.evaluate(pred_combined_gbtc)\n",
    "# print(\"combined data: \", acc_combined_data)"
   ]
  },
  {
   "cell_type": "code",
   "execution_count": null,
   "metadata": {
    "application/vnd.databricks.v1+cell": {
     "inputWidgets": {},
     "nuid": "dfd049cb-f5d4-43ea-bb01-85678530406c",
     "showTitle": false,
     "title": ""
    }
   },
   "outputs": [],
   "source": [
    "# params = [{\n",
    "#       p.name: v\n",
    "#       for p,\n",
    "#       v in m.items()\n",
    "#    }\n",
    "#    for m in cvModel_gbtc.getEstimatorParamMaps()\n",
    "# ]\n",
    "# import pandas as pd\n",
    "\n",
    "# pd.DataFrame.from_dict([{\n",
    "#       cvModel_gbtc.getEvaluator().getMetricName(): metric,\n",
    "#       ** ps\n",
    "#    } for ps, metric in zip(params, cvModel_gbtc.avgMetrics)\n",
    "# ])"
   ]
  },
  {
   "cell_type": "code",
   "execution_count": null,
   "metadata": {
    "application/vnd.databricks.v1+cell": {
     "inputWidgets": {},
     "nuid": "107cff6f-85a1-421a-9c9e-a2b6058e00de",
     "showTitle": false,
     "title": ""
    }
   },
   "outputs": [],
   "source": [
    "# print(\"Best regularization parameter: \", cvModel_gbtc.bestModel.stages[6]._java_obj.getRegParam())\n",
    "# print(\"Best hashing number of features: \", cvModel_gbtc.bestModel.stages[1]._java_obj.getNumFeatures())"
   ]
  },
  {
   "cell_type": "markdown",
   "metadata": {
    "application/vnd.databricks.v1+cell": {
     "inputWidgets": {},
     "nuid": "95a45e0d-c442-4f8a-86d7-c9dccddf4f43",
     "showTitle": false,
     "title": ""
    },
    "tags": []
   },
   "source": [
    "# Logistic Regression Tuning Best Params - Oluwajolasun "
   ]
  },
  {
   "cell_type": "code",
   "execution_count": 35,
   "metadata": {
    "application/vnd.databricks.v1+cell": {
     "inputWidgets": {},
     "nuid": "efeecdd5-5183-44ef-afc5-4570810904c1",
     "showTitle": false,
     "title": ""
    }
   },
   "outputs": [],
   "source": [
    "from pyspark.ml.feature import HashingTF, IDF, IndexToString, StringIndexer\n",
    "from pyspark.ml import Pipeline\n",
    "from pyspark.ml.feature import StandardScaler\n",
    "from pyspark.ml.classification import LogisticRegression\n",
    "from pyspark.ml.classification import RandomForestClassifier\n",
    "from pyspark.ml.classification import LinearSVC\n",
    "from pyspark.ml.classification import NaiveBayes\n",
    "from pyspark.ml.classification import GBTClassifier\n",
    "from pyspark.ml.feature import VectorAssembler\n",
    "from pyspark.ml.evaluation import MulticlassClassificationEvaluator\n",
    "\n",
    "columns_to_be_scaled = ['length_in_words', 'average_word_length', 'capital_char_ratio', 'long_word_ratio', 'non_stop_word_ratio', 'punctuation_ratio']\n",
    "assemblers = [VectorAssembler(inputCols=[col], outputCol=col + \"_vec\") for col in columns_to_be_scaled]\n",
    "scalers  = [StandardScaler(inputCol=col + \"_vec\", outputCol=col + \"_scaled\") for col in columns_to_be_scaled]\n",
    "scaling_pipeline = Pipeline(stages=assemblers + scalers)\n",
    "\n",
    "hashingTF = HashingTF(inputCol=\"stemmed\", outputCol=\"rawFeatures\")\n",
    "idf = IDF(inputCol=\"rawFeatures\", outputCol=\"TF_IDF\", minDocFreq=2)\n",
    "label_strIdx1 = StringIndexer(inputCol=\"polarity\", outputCol=\"polarity_idx\")\n",
    "assembles = VectorAssembler(inputCols = ['TF_IDF','sentiment','polarity_idx', 'length_in_words_scaled', 'average_word_length_scaled', 'capital_char_ratio_scaled', 'long_word_ratio_scaled', 'non_stop_word_ratio_scaled', 'punctuation_ratio_scaled'],outputCol=\"features\")\n",
    "label_strIdx2 = StringIndexer(inputCol=\"real_fake\", outputCol=\"label\")\n",
    "lr = LogisticRegression()\n",
    "label_idxStr = IndexToString(inputCol = \"label\", outputCol = \"article_class\")\n",
    "\n",
    "pipeline = Pipeline(stages=[scaling_pipeline, hashingTF, idf,label_strIdx1, assembles, label_strIdx2, lr ,label_idxStr])"
   ]
  },
  {
   "cell_type": "code",
   "execution_count": 36,
   "metadata": {
    "application/vnd.databricks.v1+cell": {
     "inputWidgets": {},
     "nuid": "19fdf3c3-933b-4078-83be-a6d3328ce964",
     "showTitle": false,
     "title": ""
    }
   },
   "outputs": [],
   "source": [
    "from pyspark.ml.tuning import CrossValidator, ParamGridBuilder\n",
    "\n",
    "paramGrid = ParamGridBuilder() \\\n",
    "    .addGrid(hashingTF.numFeatures, [5000,10000,20000,30000,50000]) \\\n",
    "    .addGrid(lr.regParam, [0.0, 0.1, 0.3, 0.5]) \\\n",
    "    .addGrid(lr.standardization,[True,False]) \\\n",
    "    .build()\n",
    "crossval_lr = CrossValidator(estimator=pipeline, estimatorParamMaps=paramGrid,evaluator= MulticlassClassificationEvaluator(),numFolds=5,parallelism = 100)  # use 3+ folds in practice"
   ]
  },
  {
   "cell_type": "code",
   "execution_count": 59,
   "metadata": {
    "application/vnd.databricks.v1+cell": {
     "inputWidgets": {},
     "nuid": "32020647-3229-4074-9526-7a3271fe40ab",
     "showTitle": false,
     "title": ""
    }
   },
   "outputs": [],
   "source": [
    "cvModel_lr = crossval_lr.fit(combined_train)"
   ]
  },
  {
   "cell_type": "code",
   "execution_count": 60,
   "metadata": {},
   "outputs": [
    {
     "data": {
      "text/html": [
       "<div>\n",
       "<style scoped>\n",
       "    .dataframe tbody tr th:only-of-type {\n",
       "        vertical-align: middle;\n",
       "    }\n",
       "\n",
       "    .dataframe tbody tr th {\n",
       "        vertical-align: top;\n",
       "    }\n",
       "\n",
       "    .dataframe thead th {\n",
       "        text-align: right;\n",
       "    }\n",
       "</style>\n",
       "<table border=\"1\" class=\"dataframe\">\n",
       "  <thead>\n",
       "    <tr style=\"text-align: right;\">\n",
       "      <th></th>\n",
       "      <th>f1</th>\n",
       "      <th>numFeatures</th>\n",
       "      <th>regParam</th>\n",
       "      <th>standardization</th>\n",
       "    </tr>\n",
       "  </thead>\n",
       "  <tbody>\n",
       "    <tr>\n",
       "      <th>0</th>\n",
       "      <td>0.755115</td>\n",
       "      <td>5000</td>\n",
       "      <td>0.0</td>\n",
       "      <td>True</td>\n",
       "    </tr>\n",
       "    <tr>\n",
       "      <th>1</th>\n",
       "      <td>0.755115</td>\n",
       "      <td>5000</td>\n",
       "      <td>0.0</td>\n",
       "      <td>False</td>\n",
       "    </tr>\n",
       "    <tr>\n",
       "      <th>2</th>\n",
       "      <td>0.797848</td>\n",
       "      <td>5000</td>\n",
       "      <td>0.1</td>\n",
       "      <td>True</td>\n",
       "    </tr>\n",
       "    <tr>\n",
       "      <th>3</th>\n",
       "      <td>0.812191</td>\n",
       "      <td>5000</td>\n",
       "      <td>0.1</td>\n",
       "      <td>False</td>\n",
       "    </tr>\n",
       "    <tr>\n",
       "      <th>4</th>\n",
       "      <td>0.791091</td>\n",
       "      <td>5000</td>\n",
       "      <td>0.3</td>\n",
       "      <td>True</td>\n",
       "    </tr>\n",
       "    <tr>\n",
       "      <th>5</th>\n",
       "      <td>0.802436</td>\n",
       "      <td>5000</td>\n",
       "      <td>0.3</td>\n",
       "      <td>False</td>\n",
       "    </tr>\n",
       "    <tr>\n",
       "      <th>6</th>\n",
       "      <td>0.784227</td>\n",
       "      <td>5000</td>\n",
       "      <td>0.5</td>\n",
       "      <td>True</td>\n",
       "    </tr>\n",
       "    <tr>\n",
       "      <th>7</th>\n",
       "      <td>0.773065</td>\n",
       "      <td>5000</td>\n",
       "      <td>0.5</td>\n",
       "      <td>False</td>\n",
       "    </tr>\n",
       "    <tr>\n",
       "      <th>8</th>\n",
       "      <td>0.757075</td>\n",
       "      <td>10000</td>\n",
       "      <td>0.0</td>\n",
       "      <td>True</td>\n",
       "    </tr>\n",
       "    <tr>\n",
       "      <th>9</th>\n",
       "      <td>0.757075</td>\n",
       "      <td>10000</td>\n",
       "      <td>0.0</td>\n",
       "      <td>False</td>\n",
       "    </tr>\n",
       "    <tr>\n",
       "      <th>10</th>\n",
       "      <td>0.799572</td>\n",
       "      <td>10000</td>\n",
       "      <td>0.1</td>\n",
       "      <td>True</td>\n",
       "    </tr>\n",
       "    <tr>\n",
       "      <th>11</th>\n",
       "      <td>0.816591</td>\n",
       "      <td>10000</td>\n",
       "      <td>0.1</td>\n",
       "      <td>False</td>\n",
       "    </tr>\n",
       "    <tr>\n",
       "      <th>12</th>\n",
       "      <td>0.796400</td>\n",
       "      <td>10000</td>\n",
       "      <td>0.3</td>\n",
       "      <td>True</td>\n",
       "    </tr>\n",
       "    <tr>\n",
       "      <th>13</th>\n",
       "      <td>0.806925</td>\n",
       "      <td>10000</td>\n",
       "      <td>0.3</td>\n",
       "      <td>False</td>\n",
       "    </tr>\n",
       "    <tr>\n",
       "      <th>14</th>\n",
       "      <td>0.789723</td>\n",
       "      <td>10000</td>\n",
       "      <td>0.5</td>\n",
       "      <td>True</td>\n",
       "    </tr>\n",
       "    <tr>\n",
       "      <th>15</th>\n",
       "      <td>0.781105</td>\n",
       "      <td>10000</td>\n",
       "      <td>0.5</td>\n",
       "      <td>False</td>\n",
       "    </tr>\n",
       "    <tr>\n",
       "      <th>16</th>\n",
       "      <td>0.754398</td>\n",
       "      <td>20000</td>\n",
       "      <td>0.0</td>\n",
       "      <td>True</td>\n",
       "    </tr>\n",
       "    <tr>\n",
       "      <th>17</th>\n",
       "      <td>0.754398</td>\n",
       "      <td>20000</td>\n",
       "      <td>0.0</td>\n",
       "      <td>False</td>\n",
       "    </tr>\n",
       "    <tr>\n",
       "      <th>18</th>\n",
       "      <td>0.796579</td>\n",
       "      <td>20000</td>\n",
       "      <td>0.1</td>\n",
       "      <td>True</td>\n",
       "    </tr>\n",
       "    <tr>\n",
       "      <th>19</th>\n",
       "      <td>0.815359</td>\n",
       "      <td>20000</td>\n",
       "      <td>0.1</td>\n",
       "      <td>False</td>\n",
       "    </tr>\n",
       "    <tr>\n",
       "      <th>20</th>\n",
       "      <td>0.793592</td>\n",
       "      <td>20000</td>\n",
       "      <td>0.3</td>\n",
       "      <td>True</td>\n",
       "    </tr>\n",
       "    <tr>\n",
       "      <th>21</th>\n",
       "      <td>0.805224</td>\n",
       "      <td>20000</td>\n",
       "      <td>0.3</td>\n",
       "      <td>False</td>\n",
       "    </tr>\n",
       "    <tr>\n",
       "      <th>22</th>\n",
       "      <td>0.780627</td>\n",
       "      <td>20000</td>\n",
       "      <td>0.5</td>\n",
       "      <td>True</td>\n",
       "    </tr>\n",
       "    <tr>\n",
       "      <th>23</th>\n",
       "      <td>0.778583</td>\n",
       "      <td>20000</td>\n",
       "      <td>0.5</td>\n",
       "      <td>False</td>\n",
       "    </tr>\n",
       "    <tr>\n",
       "      <th>24</th>\n",
       "      <td>0.746646</td>\n",
       "      <td>30000</td>\n",
       "      <td>0.0</td>\n",
       "      <td>True</td>\n",
       "    </tr>\n",
       "    <tr>\n",
       "      <th>25</th>\n",
       "      <td>0.746646</td>\n",
       "      <td>30000</td>\n",
       "      <td>0.0</td>\n",
       "      <td>False</td>\n",
       "    </tr>\n",
       "    <tr>\n",
       "      <th>26</th>\n",
       "      <td>0.796748</td>\n",
       "      <td>30000</td>\n",
       "      <td>0.1</td>\n",
       "      <td>True</td>\n",
       "    </tr>\n",
       "    <tr>\n",
       "      <th>27</th>\n",
       "      <td>0.812454</td>\n",
       "      <td>30000</td>\n",
       "      <td>0.1</td>\n",
       "      <td>False</td>\n",
       "    </tr>\n",
       "    <tr>\n",
       "      <th>28</th>\n",
       "      <td>0.795744</td>\n",
       "      <td>30000</td>\n",
       "      <td>0.3</td>\n",
       "      <td>True</td>\n",
       "    </tr>\n",
       "    <tr>\n",
       "      <th>29</th>\n",
       "      <td>0.803892</td>\n",
       "      <td>30000</td>\n",
       "      <td>0.3</td>\n",
       "      <td>False</td>\n",
       "    </tr>\n",
       "    <tr>\n",
       "      <th>30</th>\n",
       "      <td>0.786312</td>\n",
       "      <td>30000</td>\n",
       "      <td>0.5</td>\n",
       "      <td>True</td>\n",
       "    </tr>\n",
       "    <tr>\n",
       "      <th>31</th>\n",
       "      <td>0.783057</td>\n",
       "      <td>30000</td>\n",
       "      <td>0.5</td>\n",
       "      <td>False</td>\n",
       "    </tr>\n",
       "    <tr>\n",
       "      <th>32</th>\n",
       "      <td>0.749340</td>\n",
       "      <td>50000</td>\n",
       "      <td>0.0</td>\n",
       "      <td>True</td>\n",
       "    </tr>\n",
       "    <tr>\n",
       "      <th>33</th>\n",
       "      <td>0.749340</td>\n",
       "      <td>50000</td>\n",
       "      <td>0.0</td>\n",
       "      <td>False</td>\n",
       "    </tr>\n",
       "    <tr>\n",
       "      <th>34</th>\n",
       "      <td>0.791006</td>\n",
       "      <td>50000</td>\n",
       "      <td>0.1</td>\n",
       "      <td>True</td>\n",
       "    </tr>\n",
       "    <tr>\n",
       "      <th>35</th>\n",
       "      <td>0.811776</td>\n",
       "      <td>50000</td>\n",
       "      <td>0.1</td>\n",
       "      <td>False</td>\n",
       "    </tr>\n",
       "    <tr>\n",
       "      <th>36</th>\n",
       "      <td>0.793646</td>\n",
       "      <td>50000</td>\n",
       "      <td>0.3</td>\n",
       "      <td>True</td>\n",
       "    </tr>\n",
       "    <tr>\n",
       "      <th>37</th>\n",
       "      <td>0.805118</td>\n",
       "      <td>50000</td>\n",
       "      <td>0.3</td>\n",
       "      <td>False</td>\n",
       "    </tr>\n",
       "    <tr>\n",
       "      <th>38</th>\n",
       "      <td>0.786196</td>\n",
       "      <td>50000</td>\n",
       "      <td>0.5</td>\n",
       "      <td>True</td>\n",
       "    </tr>\n",
       "    <tr>\n",
       "      <th>39</th>\n",
       "      <td>0.777699</td>\n",
       "      <td>50000</td>\n",
       "      <td>0.5</td>\n",
       "      <td>False</td>\n",
       "    </tr>\n",
       "  </tbody>\n",
       "</table>\n",
       "</div>"
      ],
      "text/plain": [
       "          f1  numFeatures  regParam  standardization\n",
       "0   0.755115         5000       0.0             True\n",
       "1   0.755115         5000       0.0            False\n",
       "2   0.797848         5000       0.1             True\n",
       "3   0.812191         5000       0.1            False\n",
       "4   0.791091         5000       0.3             True\n",
       "5   0.802436         5000       0.3            False\n",
       "6   0.784227         5000       0.5             True\n",
       "7   0.773065         5000       0.5            False\n",
       "8   0.757075        10000       0.0             True\n",
       "9   0.757075        10000       0.0            False\n",
       "10  0.799572        10000       0.1             True\n",
       "11  0.816591        10000       0.1            False\n",
       "12  0.796400        10000       0.3             True\n",
       "13  0.806925        10000       0.3            False\n",
       "14  0.789723        10000       0.5             True\n",
       "15  0.781105        10000       0.5            False\n",
       "16  0.754398        20000       0.0             True\n",
       "17  0.754398        20000       0.0            False\n",
       "18  0.796579        20000       0.1             True\n",
       "19  0.815359        20000       0.1            False\n",
       "20  0.793592        20000       0.3             True\n",
       "21  0.805224        20000       0.3            False\n",
       "22  0.780627        20000       0.5             True\n",
       "23  0.778583        20000       0.5            False\n",
       "24  0.746646        30000       0.0             True\n",
       "25  0.746646        30000       0.0            False\n",
       "26  0.796748        30000       0.1             True\n",
       "27  0.812454        30000       0.1            False\n",
       "28  0.795744        30000       0.3             True\n",
       "29  0.803892        30000       0.3            False\n",
       "30  0.786312        30000       0.5             True\n",
       "31  0.783057        30000       0.5            False\n",
       "32  0.749340        50000       0.0             True\n",
       "33  0.749340        50000       0.0            False\n",
       "34  0.791006        50000       0.1             True\n",
       "35  0.811776        50000       0.1            False\n",
       "36  0.793646        50000       0.3             True\n",
       "37  0.805118        50000       0.3            False\n",
       "38  0.786196        50000       0.5             True\n",
       "39  0.777699        50000       0.5            False"
      ]
     },
     "execution_count": 60,
     "metadata": {},
     "output_type": "execute_result"
    }
   ],
   "source": [
    "params = [{\n",
    "      p.name: v\n",
    "      for p,\n",
    "      v in m.items()\n",
    "   }\n",
    "   for m in cvModel_lr.getEstimatorParamMaps()\n",
    "]\n",
    "import pandas as pd\n",
    "\n",
    "pd.DataFrame.from_dict([{\n",
    "      cvModel_lr.getEvaluator().getMetricName(): metric,\n",
    "      ** ps\n",
    "   }\n",
    "   for ps, metric in zip(params, cvModel_lr.avgMetrics)\n",
    "])"
   ]
  },
  {
   "cell_type": "code",
   "execution_count": 40,
   "metadata": {},
   "outputs": [
    {
     "name": "stdout",
     "output_type": "stream",
     "text": [
      "Best hashing number of features:  10000\n",
      "Best regularization parameter:  0.1\n",
      "Best Standardization parameter:  False\n"
     ]
    }
   ],
   "source": [
    "print(\"Best hashing number of features: \", cvModel_lr.bestModel.stages[1]._java_obj.getNumFeatures())\n",
    "print(\"Best regularization parameter: \", cvModel_lr.bestModel.stages[6]._java_obj.getRegParam())\n",
    "print(\"Best Standardization parameter: \", cvModel_lr.bestModel.stages[6]._java_obj.getStandardization())\n"
   ]
  },
  {
   "cell_type": "code",
   "execution_count": 41,
   "metadata": {},
   "outputs": [],
   "source": [
    "paramGrid = ParamGridBuilder() \\\n",
    "    .addGrid(hashingTF.numFeatures, [30000]) \\\n",
    "    .addGrid(lr.regParam, [0.1]) \\\n",
    "    .addGrid(lr.standardization, [False]) \\\n",
    "    .build()\n",
    "crossval_lr = CrossValidator(estimator=pipeline, estimatorParamMaps=paramGrid, evaluator = MulticlassClassificationEvaluator(), numFolds=5, parallelism = 100 )"
   ]
  },
  {
   "cell_type": "code",
   "execution_count": 42,
   "metadata": {},
   "outputs": [],
   "source": [
    "cvModel_lr = crossval_lr.fit(combined_train)"
   ]
  },
  {
   "cell_type": "code",
   "execution_count": 43,
   "metadata": {},
   "outputs": [
    {
     "data": {
      "text/plain": [
       "DataFrame[Index: string, Review: string, stemmed: array<string>, sentiment: float, polarity: string, length_in_words: int, average_word_length: float, capital_char_ratio: float, long_word_ratio: float, non_stop_word_ratio: float, punctuation_ratio: float, real_fake: string, length_in_words_vec: vector, average_word_length_vec: vector, capital_char_ratio_vec: vector, long_word_ratio_vec: vector, non_stop_word_ratio_vec: vector, punctuation_ratio_vec: vector, length_in_words_scaled: vector, average_word_length_scaled: vector, capital_char_ratio_scaled: vector, long_word_ratio_scaled: vector, non_stop_word_ratio_scaled: vector, punctuation_ratio_scaled: vector, rawFeatures: vector, TF_IDF: vector, polarity_idx: double, features: vector, label: double, rawPrediction: vector, probability: vector, prediction: double, article_class: string]"
      ]
     },
     "execution_count": 43,
     "metadata": {},
     "output_type": "execute_result"
    }
   ],
   "source": [
    "pred_old_lr = cvModel_lr.transform(old_test_split)\n",
    "pred_new_lr = cvModel_lr.transform(new_test_split)\n",
    "pred_combined_lr = cvModel_lr.transform(combined_test)\n",
    "\n",
    "pred_old_lr.cache()\n",
    "pred_new_lr.cache()\n",
    "pred_combined_lr.cache()"
   ]
  },
  {
   "cell_type": "code",
   "execution_count": 58,
   "metadata": {},
   "outputs": [
    {
     "data": {
      "text/html": [
       "<div>\n",
       "<style scoped>\n",
       "    .dataframe tbody tr th:only-of-type {\n",
       "        vertical-align: middle;\n",
       "    }\n",
       "\n",
       "    .dataframe tbody tr th {\n",
       "        vertical-align: top;\n",
       "    }\n",
       "\n",
       "    .dataframe thead th {\n",
       "        text-align: right;\n",
       "    }\n",
       "</style>\n",
       "<table border=\"1\" class=\"dataframe\">\n",
       "  <thead>\n",
       "    <tr style=\"text-align: right;\">\n",
       "      <th></th>\n",
       "      <th>f1</th>\n",
       "      <th>numFeatures</th>\n",
       "      <th>regParam</th>\n",
       "      <th>standardization</th>\n",
       "    </tr>\n",
       "  </thead>\n",
       "  <tbody>\n",
       "    <tr>\n",
       "      <th>0</th>\n",
       "      <td>0.812454</td>\n",
       "      <td>30000</td>\n",
       "      <td>0.1</td>\n",
       "      <td>False</td>\n",
       "    </tr>\n",
       "  </tbody>\n",
       "</table>\n",
       "</div>"
      ],
      "text/plain": [
       "         f1  numFeatures  regParam  standardization\n",
       "0  0.812454        30000       0.1            False"
      ]
     },
     "execution_count": 58,
     "metadata": {},
     "output_type": "execute_result"
    }
   ],
   "source": [
    "params = [{\n",
    "      p.name: v\n",
    "      for p,\n",
    "      v in m.items()\n",
    "   }\n",
    "   for m in cvModel_lr.getEstimatorParamMaps()\n",
    "]\n",
    "import pandas as pd\n",
    " \n",
    "pd.DataFrame.from_dict([{\n",
    "      cvModel_lr.getEvaluator().getMetricName(): metric,\n",
    "      ** ps\n",
    "   }\n",
    "   for ps, metric in zip(params, cvModel_lr.avgMetrics)\n",
    "])"
   ]
  },
  {
   "cell_type": "code",
   "execution_count": 45,
   "metadata": {
    "application/vnd.databricks.v1+cell": {
     "inputWidgets": {},
     "nuid": "b76923da-9953-4425-a33a-5804b06e0c3a",
     "showTitle": false,
     "title": ""
    }
   },
   "outputs": [
    {
     "name": "stdout",
     "output_type": "stream",
     "text": [
      "our data:  0.7815533980582524\n",
      "original data:  0.873900293255132\n",
      "combined data:  0.8391224862888482\n",
      "new data accuracy:  0.7815533980582524\n",
      "new data f1:  0.730936945553534\n",
      "new data precision:  0.6930092561160522\n",
      "new data recall:  0.7815533980582524\n",
      "old data:  0.873900293255132\n",
      "old data f1:  0.8739002932551319\n",
      "old data precision:  0.8742761449502079\n",
      "old data recall:  0.873900293255132\n",
      "combined data:  0.8391224862888482\n",
      "combined data f1:  0.8363210722661774\n",
      "combined data precision:  0.8390300683970109\n",
      "combined data recall:  0.8391224862888482\n"
     ]
    }
   ],
   "source": [
    "from pyspark.ml.evaluation import MulticlassClassificationEvaluator\n",
    "eval = MulticlassClassificationEvaluator(labelCol=\"label\",predictionCol=\"prediction\",metricName=\"accuracy\")\n",
    "acc_our_data = eval.evaluate(pred_new_lr)\n",
    "print(\"our data: \", acc_our_data)\n",
    "acc_original_data = eval.evaluate(pred_old_lr)\n",
    "print(\"original data: \", acc_original_data)\n",
    "acc_original_data = eval.evaluate(pred_combined_lr)\n",
    "print(\"combined data: \", acc_original_data)\n",
    "\n",
    "eval = MulticlassClassificationEvaluator(labelCol=\"label\",predictionCol=\"prediction\",metricName=\"accuracy\")\n",
    "evalf1 = MulticlassClassificationEvaluator(labelCol=\"label\",predictionCol=\"prediction\",metricName=\"f1\")\n",
    "evalprecision = MulticlassClassificationEvaluator(labelCol=\"label\",predictionCol=\"prediction\",metricName=\"weightedPrecision\")\n",
    "evalrecall = MulticlassClassificationEvaluator(labelCol=\"label\",predictionCol=\"prediction\",metricName=\"weightedRecall\")\n",
    "\n",
    "acc_new_data = eval.evaluate(pred_new_lr)\n",
    "print(\"new data accuracy: \", acc_new_data)\n",
    "f1_new_data = evalf1.evaluate(pred_new_lr)\n",
    "print(\"new data f1: \", f1_new_data)\n",
    "prec_new_data = evalprecision.evaluate(pred_new_lr)\n",
    "print(\"new data precision: \", prec_new_data)\n",
    "rec_new_data = evalrecall.evaluate(pred_new_lr)\n",
    "print(\"new data recall: \", rec_new_data)\n",
    "\n",
    "acc_old_data = eval.evaluate(pred_old_lr)\n",
    "print(\"old data: \", acc_old_data)\n",
    "f1_old_data = evalf1.evaluate(pred_old_lr)\n",
    "print(\"old data f1: \", f1_old_data)\n",
    "prec_old_data = evalprecision.evaluate(pred_old_lr)\n",
    "print(\"old data precision: \", prec_old_data)\n",
    "rec_old_data = evalrecall.evaluate(pred_old_lr)\n",
    "print(\"old data recall: \", rec_old_data)\n",
    "\n",
    "acc_combined_data = eval.evaluate(pred_combined_lr)\n",
    "print(\"combined data: \", acc_combined_data)\n",
    "f1_combined_data = evalf1.evaluate(pred_combined_lr)\n",
    "print(\"combined data f1: \", f1_combined_data)\n",
    "prec_combined_data = evalprecision.evaluate(pred_combined_lr)\n",
    "print(\"combined data precision: \", prec_combined_data)\n",
    "rec_combined_data = evalrecall.evaluate(pred_combined_lr)\n",
    "print(\"combined data recall: \", rec_combined_data)"
   ]
  },
  {
   "cell_type": "code",
   "execution_count": 46,
   "metadata": {},
   "outputs": [],
   "source": [
    "from sklearn.metrics import confusion_matrix\n",
    "import seaborn as sns\n",
    "import matplotlib.pyplot as plt\n",
    "import mglearn\n",
    "\n",
    "def plot_confusion_matrix(y_actual, y_pred, labels, title=''):\n",
    "    mat = confusion_matrix(y_actual, y_pred, labels=labels)\n",
    "    labels = ['real','fake']\n",
    "    sns.heatmap(mat, xticklabels=labels,  yticklabels=labels, square=True, annot=True, cbar=False,fmt='d')\n",
    "    plt.xlabel('predicted value')\n",
    "    plt.ylabel('true value')\n",
    "    plt.title(title)"
   ]
  },
  {
   "cell_type": "code",
   "execution_count": 47,
   "metadata": {},
   "outputs": [],
   "source": [
    "pred_new_lr_pd = pred_new_lr.toPandas()\n",
    "pred_old_lr_pd = pred_old_lr.toPandas()\n",
    "pred_combined_lr_pd = pred_combined_lr.toPandas()"
   ]
  },
  {
   "cell_type": "code",
   "execution_count": 48,
   "metadata": {},
   "outputs": [
    {
     "data": {
      "image/png": "[encoded data removed]",
      "text/plain": [
       "<Figure size 432x288 with 1 Axes>"
      ]
     },
     "metadata": {
      "needs_background": "light"
     },
     "output_type": "display_data"
    }
   ],
   "source": [
    "plot_confusion_matrix(pred_new_lr_pd['label'], pred_new_lr_pd['prediction'], labels=[0,1], title = \"New Data\")"
   ]
  },
  {
   "cell_type": "code",
   "execution_count": 49,
   "metadata": {},
   "outputs": [
    {
     "data": {
      "image/png": "[encoded data removed]",
      "text/plain": [
       "<Figure size 432x288 with 1 Axes>"
      ]
     },
     "metadata": {
      "needs_background": "light"
     },
     "output_type": "display_data"
    }
   ],
   "source": [
    "plot_confusion_matrix(pred_old_lr_pd['label'], pred_old_lr_pd['prediction'], labels=[0,1],title = \"Old Data\")"
   ]
  },
  {
   "cell_type": "code",
   "execution_count": 50,
   "metadata": {},
   "outputs": [
    {
     "data": {
      "image/png": "[encoded data removed]",
      "text/plain": [
       "<Figure size 432x288 with 1 Axes>"
      ]
     },
     "metadata": {
      "needs_background": "light"
     },
     "output_type": "display_data"
    }
   ],
   "source": [
    "plot_confusion_matrix(pred_combined_lr_pd['label'], pred_combined_lr_pd['prediction'], labels=[0,1],title = \"Combined Data\")"
   ]
  },
  {
   "cell_type": "code",
   "execution_count": 53,
   "metadata": {
    "application/vnd.databricks.v1+cell": {
     "inputWidgets": {},
     "nuid": "6b3f855e-8e76-4964-817d-c06524a2e9d4",
     "showTitle": false,
     "title": ""
    }
   },
   "outputs": [
    {
     "name": "stdout",
     "output_type": "stream",
     "text": [
      "+-----+--------------------+--------+----------+---------------+\n",
      "|Index|              Review|polarity|True Label|Predicted Label|\n",
      "+-----+--------------------+--------+----------+---------------+\n",
      "| 1126|My Stay at Sherat...|positive|      fake|           real|\n",
      "| 1160|My stay at the So...|positive|      fake|           real|\n",
      "| 1162|The Swissotel Chi...|positive|      fake|           real|\n",
      "| 1216|The recently remo...|positive|      real|           fake|\n",
      "|  126|Great building an...|negative|      real|           fake|\n",
      "| 1265|Recently returned...|positive|      real|           fake|\n",
      "| 1286|My husband and I ...|positive|      real|           fake|\n",
      "|  130|This morning, I c...|negative|      real|           fake|\n",
      "|  131|I had purchased t...|negative|      real|           fake|\n",
      "| 1340|my husband and l ...|positive|      real|           fake|\n",
      "| 1428|We have just retu...|positive|      real|           fake|\n",
      "| 1506|My wife and I red...|positive|      real|           fake|\n",
      "|  153|I recently stayed...|negative|      real|           fake|\n",
      "| 1541|On a recent trip ...|positive|      real|           fake|\n",
      "| 1551|Striking architec...|positive|      real|           fake|\n",
      "| 1586|We loved our stay...|positive|      real|           fake|\n",
      "|  217|Used this hotel t...|negative|      real|           fake|\n",
      "|  350|I stayed in this ...|negative|      real|           fake|\n",
      "|  357|Didn't get the ro...|negative|      real|           fake|\n",
      "|  380|Overall I had a V...|negative|      real|           fake|\n",
      "+-----+--------------------+--------+----------+---------------+\n",
      "only showing top 20 rows\n",
      "\n",
      "+-----+--------------------+--------+----------+---------------+\n",
      "|Index|              Review|polarity|True Label|Predicted Label|\n",
      "+-----+--------------------+--------+----------+---------------+\n",
      "| 1001|Recently I travel...|positive|      fake|           fake|\n",
      "| 1007|The InterContinen...|positive|      fake|           fake|\n",
      "| 1014|Very beautiful ho...|positive|      fake|           fake|\n",
      "| 1016|The InterContinen...|positive|      fake|           fake|\n",
      "|  102|Fairmont Hotels a...|negative|      real|           real|\n",
      "| 1027|Do you want to st...|positive|      fake|           fake|\n",
      "| 1030|I had a wonderful...|positive|      fake|           fake|\n",
      "| 1032|I am often travel...|positive|      fake|           fake|\n",
      "| 1034|Our stay at the J...|positive|      fake|           fake|\n",
      "| 1037|This is a beautif...|positive|      fake|           fake|\n",
      "| 1041|My company was ho...|positive|      fake|           fake|\n",
      "| 1049|This hotel was wo...|positive|      fake|           fake|\n",
      "| 1070|Fantastic stay! T...|positive|      fake|           fake|\n",
      "| 1079|My stay at the Ho...|positive|      fake|           fake|\n",
      "| 1085|I recently had my...|positive|      fake|           fake|\n",
      "|  109|We stayed at the ...|negative|      real|           real|\n",
      "| 1091|My family and I v...|positive|      fake|           fake|\n",
      "| 1093|The Omni Chicago ...|positive|      fake|           fake|\n",
      "|  110|For a supposed 4-...|negative|      real|           real|\n",
      "| 1103|I stayed here wit...|positive|      fake|           fake|\n",
      "+-----+--------------------+--------+----------+---------------+\n",
      "only showing top 20 rows\n",
      "\n"
     ]
    }
   ],
   "source": [
    "from pyspark.sql.functions import col\n",
    "from pyspark.ml.feature import IndexToString\n",
    "\n",
    "mislabeled_lr = pred_combined_lr.select('Index','Review', 'polarity', 'real_fake', 'prediction').filter(col(\"label\") != col(\"prediction\"))\n",
    "\n",
    "i2s = IndexToString(inputCol=\"prediction\", outputCol=\"prediction string\", labels=[\"real\", \"fake\"])\n",
    "\n",
    "mislabeled_lr_string = i2s.transform(mislabeled_lr).drop(\"prediction\").withColumnRenamed(\"real_fake\",\"True Label\").withColumnRenamed(\"prediction string\",\"Predicted Label\")\n",
    "mislabeled_lr_string.toPandas().to_csv('Final Submission/mislabelled_index.csv', index=False)\n",
    "mislabeled_lr_string.show()\n",
    "\n",
    "correct_lr = pred_combined_lr.select('Index','Review', 'polarity', 'real_fake', 'prediction').filter(col(\"label\") == col(\"prediction\"))\n",
    "\n",
    "i2s = IndexToString(inputCol=\"prediction\", outputCol=\"prediction string\", labels=[\"real\", \"fake\"])\n",
    "\n",
    "correct_lr_string = i2s.transform(correct_lr).drop(\"prediction\").withColumnRenamed(\"real_fake\",\"True Label\").withColumnRenamed(\"prediction string\",\"Predicted Label\")\n",
    "correct_lr_string.cache()\n",
    "correct_lr_string.show()\n",
    "correct_lr_string.toPandas().to_csv(\"Final Submission/correct.csv\", index=False)"
   ]
  }
 ],
 "metadata": {
  "application/vnd.databricks.v1+notebook": {
   "dashboards": [],
   "language": "python",
   "notebookMetadata": {
    "pythonIndentUnit": 2
   },
   "notebookName": "Project_1",
   "notebookOrigID": 167243994796758,
   "widgets": {}
  },
  "kernelspec": {
   "display_name": "Python 3 (ipykernel)",
   "language": "python",
   "name": "python3"
  },
  "language_info": {
   "codemirror_mode": {
    "name": "ipython",
    "version": 3
   },
   "file_extension": ".py",
   "mimetype": "text/x-python",
   "name": "python",
   "nbconvert_exporter": "python",
   "pygments_lexer": "ipython3",
   "version": "3.7.0"
  }
 },
 "nbformat": 4,
 "nbformat_minor": 4
}
